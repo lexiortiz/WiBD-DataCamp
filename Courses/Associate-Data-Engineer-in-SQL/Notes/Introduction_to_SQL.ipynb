{
  "nbformat": 4,
  "nbformat_minor": 0,
  "metadata": {
    "colab": {
      "provenance": [],
      "toc_visible": true,
      "authorship_tag": "ABX9TyP+0qLs+LH4Hl1gxiD/Dtag"
    },
    "kernelspec": {
      "name": "python3",
      "display_name": "Python 3"
    },
    "language_info": {
      "name": "python"
    }
  },
  "cells": [
    {
      "cell_type": "markdown",
      "source": [
        "## Relational Databases"
      ],
      "metadata": {
        "id": "eCR83LTPjRdK"
      }
    },
    {
      "cell_type": "markdown",
      "source": [
        "**SQL (Structured Query Language)** is the most widely used programming language for communicating with data in databases. It allows for quick access, organization, and analysis of large amounts of data using direct commands known as queries.\n",
        "\n",
        "### Databases\n"
      ],
      "metadata": {
        "id": "pDqYqNXtjzrb"
      }
    },
    {
      "cell_type": "markdown",
      "source": [
        "Data is **stored** in **databases**. For example, managing data for a library would require creating a database with tables for checkouts, books, and patrons. Databases are more powerful and secure than spreadsheets, with encryption and the ability to handle larger data volumes."
      ],
      "metadata": {
        "id": "Y6qmMf5nmEv_"
      }
    },
    {
      "cell_type": "markdown",
      "source": [
        "#### A Closer Look at Tables\n",
        "A table is a component of a database, such as a patrons table. This table stores data about library patrons, like their card number, name, the year they joined, and fines owed."
      ],
      "metadata": {
        "id": "25Rf8IbdmvIS"
      }
    },
    {
      "cell_type": "markdown",
      "source": [
        "#### Rows and Columns  \n",
        "Tables organize data into rows and columns. Each row represents an individual data entry, while each column describes a specific data part, like the year a patron joined."
      ],
      "metadata": {
        "id": "2-bX1sLlmxEr"
      }
    },
    {
      "cell_type": "markdown",
      "source": [
        "#### Relational Databases\n",
        "A database typically includes multiple tables that are linked through relationships. For example, the checkouts table connects to the patrons and books tables through shared data, such as card number and book ID."
      ],
      "metadata": {
        "id": "arRmUA25my0m"
      }
    },
    {
      "cell_type": "markdown",
      "source": [
        "#### Database Advantages\n",
        "SQL queries allow multiple users to simultaneously gather insights from a database without altering the data. The database's information is accessed and presented according to the query instructions."
      ],
      "metadata": {
        "id": "UT31u445m0XT"
      }
    },
    {
      "cell_type": "markdown",
      "source": [
        "### Tables"
      ],
      "metadata": {
        "id": "HuNVb01Zl54j"
      }
    },
    {
      "cell_type": "markdown",
      "source": [
        "#### Table Naming\n",
        "A table name should clearly reflect the data it contains, such as inventory, products, or books. Table names should be in lowercase and use underscores instead of spaces."
      ],
      "metadata": {
        "id": "aIgckq85npEn"
      }
    },
    {
      "cell_type": "markdown",
      "source": [
        "#### Records and Fields\n",
        "In databases, **rows** are called records, and **columns** are called fields.\n"
      ],
      "metadata": {
        "id": "DsapS8cCpXdX"
      }
    },
    {
      "cell_type": "markdown",
      "source": [
        "#### Records\n",
        "Each record holds data for an individual observation. For example, the patrons table contains one record for each patron. A record for Jasmin might show that she became a member in 2022 and owes $2.05 in fines."
      ],
      "metadata": {
        "id": "9v-xdywxpgcu"
      }
    },
    {
      "cell_type": "markdown",
      "source": [
        "#### Fields\n",
        "Fields hold one piece of information for every record in a table. For example, the **name** field in the patrons table contains all patrons' names."
      ],
      "metadata": {
        "id": "DRMf4fFXpjba"
      }
    },
    {
      "cell_type": "markdown",
      "source": [
        "#### Field Naming\n",
        "Field names must be lowercase, use underscores instead of spaces, and be singular (e.g., \"card_num\" instead of \"card_nums\"). They should not duplicate the table name and must be unique within a table. This distinction ensures clarity when writing queries."
      ],
      "metadata": {
        "id": "T81JMMRiplxx"
      }
    },
    {
      "cell_type": "markdown",
      "source": [
        "#### Unique Identifiers\n",
        "Each table includes a special field containing a unique identifier for each record, known as a **key**. In the patrons table, **card_num** is the unique identifier, as names might repeat."
      ],
      "metadata": {
        "id": "TapJL2MRpn-Z"
      }
    },
    {
      "cell_type": "markdown",
      "source": [
        "#### Multiple Tables\n",
        "It’s often better to use several related tables than a single large one. For example, combining patrons and checkouts into one table can create confusion due to duplicate information. By organizing data into separate, related tables, SQL allows for more efficient analysis and querying."
      ],
      "metadata": {
        "id": "ntU5VoCFppmY"
      }
    },
    {
      "cell_type": "markdown",
      "source": [
        "### Data"
      ],
      "metadata": {
        "id": "Q8mPsgJmnPAO"
      }
    },
    {
      "cell_type": "markdown",
      "source": [
        "#### Data Storage\n",
        "Data in a database is stored on a **server's hard disk**. Servers are powerful computers that store and provide access to data over a network. They can handle many data requests simultaneously, making them ideal for collaborative environments.\n"
      ],
      "metadata": {
        "id": "pQ7qhvyKrkHB"
      }
    },
    {
      "cell_type": "markdown",
      "source": [
        "#### SQL Data Types\n",
        "When creating a table, each field must be assigned a data type based on the kind of information it will store (e.g., numbers, text, or dates). The data type also influences the operations that can be performed on the data.\n"
      ],
      "metadata": {
        "id": "eY2h6HY1rqCN"
      }
    },
    {
      "cell_type": "markdown",
      "source": [
        "#### Strings\n",
        "A **string** is a sequence of characters (letters, numbers, or punctuation). For example, the **name** field in the patrons table stores strings like \"Maham\" and \"James\". The **VARCHAR** data type is commonly used to store strings, allowing flexibility for varying string lengths.\n"
      ],
      "metadata": {
        "id": "n_qv_2_UrzAo"
      }
    },
    {
      "cell_type": "markdown",
      "source": [
        "#### Integers\n",
        "**Integers** store whole numbers, such as the values in the **card_num** field in the checkouts table. The **INT** data type can store numbers from negative two billion to positive two billion.\n"
      ],
      "metadata": {
        "id": "1BB9-QA1r079"
      }
    },
    {
      "cell_type": "markdown",
      "source": [
        "#### Floats\n",
        "**Floats** are numbers that include a decimal point, such as the $2.05 Jasmin owes in fines. The **NUMERIC** data type is used for floats and can store up to 38 digits, including both sides of the decimal point."
      ],
      "metadata": {
        "id": "_1eMzxCZr2bH"
      }
    },
    {
      "cell_type": "markdown",
      "source": [
        "#### Schemas\n",
        "A **schema** is the design or blueprint of a database. It outlines the structure, including the tables, relationships between tables, and the data types for each field. For example, the schema for the library database shows the **VARCHAR** data type for fields like book title, author, and genre, and that the patrons table is linked to the checkouts table, but not to the books table."
      ],
      "metadata": {
        "id": "906udw90r4Fb"
      }
    },
    {
      "cell_type": "markdown",
      "source": [
        "## Querying"
      ],
      "metadata": {
        "id": "z6mCkI9ajSNe"
      }
    },
    {
      "cell_type": "markdown",
      "source": [
        "### Introducing Queries"
      ],
      "metadata": {
        "id": "BzBo1tFmvX5G"
      }
    },
    {
      "cell_type": "markdown",
      "source": [
        "### Writing Queries\n"
      ],
      "metadata": {
        "id": "n1RZTLWDj025"
      }
    },
    {
      "cell_type": "markdown",
      "source": [
        "### SQL Flavors\n"
      ],
      "metadata": {
        "id": "vMV_hJlZwEdD"
      }
    }
  ]
}