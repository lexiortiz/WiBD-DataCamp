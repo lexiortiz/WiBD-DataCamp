{
  "nbformat": 4,
  "nbformat_minor": 0,
  "metadata": {
    "colab": {
      "provenance": [],
      "toc_visible": true,
      "authorship_tag": "ABX9TyM3Bqg0YAj6JkNxsM+XpMcj"
    },
    "kernelspec": {
      "name": "python3",
      "display_name": "Python 3"
    },
    "language_info": {
      "name": "python"
    }
  },
  "cells": [
    {
      "cell_type": "markdown",
      "source": [
        "## Relational Databases"
      ],
      "metadata": {
        "id": "eCR83LTPjRdK"
      }
    },
    {
      "cell_type": "markdown",
      "source": [
        "**SQL (Structured Query Language)** is the most widely used programming language for communicating with data in databases. It allows for quick access, organization, and analysis of large amounts of data using direct commands known as queries.\n",
        "\n",
        "### Databases\n"
      ],
      "metadata": {
        "id": "pDqYqNXtjzrb"
      }
    },
    {
      "cell_type": "markdown",
      "source": [
        "Data is **stored** in **databases**. For example, managing data for a library would require creating a database with tables for checkouts, books, and patrons. Databases are more powerful and secure than spreadsheets, with encryption and the ability to handle larger data volumes."
      ],
      "metadata": {
        "id": "Y6qmMf5nmEv_"
      }
    },
    {
      "cell_type": "markdown",
      "source": [
        "#### A Closer Look at Tables\n",
        "A table is a component of a database, such as a patrons table. This table stores data about library patrons, like their card number, name, the year they joined, and fines owed."
      ],
      "metadata": {
        "id": "25Rf8IbdmvIS"
      }
    },
    {
      "cell_type": "markdown",
      "source": [
        "#### Rows and Columns  \n",
        "Tables organize data into rows and columns. Each row represents an individual data entry, while each column describes a specific data part, like the year a patron joined."
      ],
      "metadata": {
        "id": "2-bX1sLlmxEr"
      }
    },
    {
      "cell_type": "markdown",
      "source": [
        "#### Relational Databases\n",
        "A database typically includes multiple tables that are linked through relationships. For example, the checkouts table connects to the patrons and books tables through shared data, such as card number and book ID."
      ],
      "metadata": {
        "id": "arRmUA25my0m"
      }
    },
    {
      "cell_type": "markdown",
      "source": [
        "#### Database Advantages\n",
        "SQL queries allow multiple users to simultaneously gather insights from a database without altering the data. The database's information is accessed and presented according to the query instructions."
      ],
      "metadata": {
        "id": "UT31u445m0XT"
      }
    },
    {
      "cell_type": "markdown",
      "source": [
        "### Tables"
      ],
      "metadata": {
        "id": "HuNVb01Zl54j"
      }
    },
    {
      "cell_type": "markdown",
      "source": [
        "#### Table Naming\n",
        "A table name should clearly reflect the data it contains, such as inventory, products, or books. Table names should be in lowercase and use underscores instead of spaces."
      ],
      "metadata": {
        "id": "aIgckq85npEn"
      }
    },
    {
      "cell_type": "markdown",
      "source": [
        "#### Records and Fields\n",
        "In databases, **rows** are called records, and **columns** are called fields.\n"
      ],
      "metadata": {
        "id": "DsapS8cCpXdX"
      }
    },
    {
      "cell_type": "markdown",
      "source": [
        "#### Records\n",
        "Each record holds data for an individual observation. For example, the patrons table contains one record for each patron. A record for Jasmin might show that she became a member in 2022 and owes $2.05 in fines."
      ],
      "metadata": {
        "id": "9v-xdywxpgcu"
      }
    },
    {
      "cell_type": "markdown",
      "source": [
        "#### Fields\n",
        "Fields hold one piece of information for every record in a table. For example, the **name** field in the patrons table contains all patrons' names."
      ],
      "metadata": {
        "id": "DRMf4fFXpjba"
      }
    },
    {
      "cell_type": "markdown",
      "source": [
        "#### Field Naming\n",
        "Field names must be lowercase, use underscores instead of spaces, and be singular (e.g., \"card_num\" instead of \"card_nums\"). They should not duplicate the table name and must be unique within a table. This distinction ensures clarity when writing queries."
      ],
      "metadata": {
        "id": "T81JMMRiplxx"
      }
    },
    {
      "cell_type": "markdown",
      "source": [
        "#### Unique Identifiers\n",
        "Each table includes a special field containing a unique identifier for each record, known as a **key**. In the patrons table, **card_num** is the unique identifier, as names might repeat."
      ],
      "metadata": {
        "id": "TapJL2MRpn-Z"
      }
    },
    {
      "cell_type": "markdown",
      "source": [
        "#### Multiple Tables\n",
        "It’s often better to use several related tables than a single large one. For example, combining patrons and checkouts into one table can create confusion due to duplicate information. By organizing data into separate, related tables, SQL allows for more efficient analysis and querying."
      ],
      "metadata": {
        "id": "ntU5VoCFppmY"
      }
    },
    {
      "cell_type": "markdown",
      "source": [
        "### Data"
      ],
      "metadata": {
        "id": "Q8mPsgJmnPAO"
      }
    },
    {
      "cell_type": "markdown",
      "source": [
        "#### Data Storage\n",
        "Data in a database is stored on a **server's hard disk**. Servers are powerful computers that store and provide access to data over a network. They can handle many data requests simultaneously, making them ideal for collaborative environments.\n"
      ],
      "metadata": {
        "id": "pQ7qhvyKrkHB"
      }
    },
    {
      "cell_type": "markdown",
      "source": [
        "#### SQL Data Types\n",
        "When creating a table, each field must be assigned a data type based on the kind of information it will store (e.g., numbers, text, or dates). The data type also influences the operations that can be performed on the data.\n"
      ],
      "metadata": {
        "id": "eY2h6HY1rqCN"
      }
    },
    {
      "cell_type": "markdown",
      "source": [
        "#### Strings\n",
        "A **string** is a sequence of characters (letters, numbers, or punctuation). For example, the **name** field in the patrons table stores strings like \"Maham\" and \"James\". The **VARCHAR** data type is commonly used to store strings, allowing flexibility for varying string lengths.\n"
      ],
      "metadata": {
        "id": "n_qv_2_UrzAo"
      }
    },
    {
      "cell_type": "markdown",
      "source": [
        "#### Integers\n",
        "**Integers** store whole numbers, such as the values in the **card_num** field in the checkouts table. The **INT** data type can store numbers from negative two billion to positive two billion.\n"
      ],
      "metadata": {
        "id": "1BB9-QA1r079"
      }
    },
    {
      "cell_type": "markdown",
      "source": [
        "#### Floats\n",
        "**Floats** are numbers that include a decimal point, such as the $2.05 Jasmin owes in fines. The **NUMERIC** data type is used for floats and can store up to 38 digits, including both sides of the decimal point."
      ],
      "metadata": {
        "id": "_1eMzxCZr2bH"
      }
    },
    {
      "cell_type": "markdown",
      "source": [
        "#### Schemas\n",
        "A **schema** is the design or blueprint of a database. It outlines the structure, including the tables, relationships between tables, and the data types for each field. For example, the schema for the library database shows the **VARCHAR** data type for fields like book title, author, and genre, and that the patrons table is linked to the checkouts table, but not to the books table."
      ],
      "metadata": {
        "id": "906udw90r4Fb"
      }
    },
    {
      "cell_type": "markdown",
      "source": [
        "## Querying"
      ],
      "metadata": {
        "id": "z6mCkI9ajSNe"
      }
    },
    {
      "cell_type": "markdown",
      "source": [
        "### Introducing Queries"
      ],
      "metadata": {
        "id": "BzBo1tFmvX5G"
      }
    },
    {
      "cell_type": "markdown",
      "source": [
        "#### What is SQL Useful For?\n",
        "SQL is used to answer questions within and across relational database tables. For example, in a library database, we can use SQL to find which books James checked out in 2022. In an HR database, SQL can be used to query salaries for employees in different departments to compare pay across departments.\n",
        "\n",
        "#### Best for Large Datasets\n",
        "SQL is often used alongside other tools like spreadsheets to analyze large datasets. It can uncover trends such as website traffic, customer reviews, and product sales. For example, SQL can help identify the best-selling products last week or track changes in website traffic after a feature release.\n",
        "\n",
        "#### Keywords\n",
        "SQL uses **keywords** to perform specific operations. The most common keywords are:\n",
        "- **SELECT**: Used to choose which fields to retrieve.\n",
        "- **FROM**: Indicates which table the fields should be selected from.\n",
        "\n",
        "For example, to get a list of every patron's name, we use `SELECT name FROM patrons;`.\n",
        "\n",
        "#### Our First Query\n",
        "A basic query starts with **SELECT**, followed by **FROM**, and ends with a semicolon. The keywords are capitalized, while table and field names are in lowercase. The result set will display the data as requested.\n",
        "\n",
        "#### Selecting Multiple Fields\n",
        "To select multiple fields, list them after the **SELECT** keyword, separated by commas. For example, to select both **card_num** and **name**, we would write:\n",
        "\n",
        "```sql\n",
        "SELECT card_num, name FROM patrons;\n",
        "```\n",
        "\n",
        "#### Selecting More Fields\n",
        "You can select more than two fields, such as **name**, **card_num**, and **total_fine**, by listing them all after the **SELECT** keyword and separating them with commas.\n",
        "\n",
        "#### Selecting All Fields\n",
        "To select all fields from a table, use the asterisk (*) symbol, also known as a **wildcard** character, instead of listing each field individually. For example:\n",
        "\n",
        "```sql\n",
        "SELECT * FROM patrons;\n",
        "```\n",
        "\n",
        "This will select every field in the **patrons** table.\n"
      ],
      "metadata": {
        "id": "TSjfssY5ymEh"
      }
    },
    {
      "cell_type": "markdown",
      "source": [
        "### Writing Queries\n"
      ],
      "metadata": {
        "id": "n1RZTLWDj025"
      }
    },
    {
      "cell_type": "markdown",
      "source": [
        "#### Leveling Up SQL Queries\n",
        "Let's explore additional SQL keywords to enhance our queries.\n",
        "\n",
        "#### Aliasing\n",
        "Aliasing helps rename columns in a result set for clarity or brevity using the **AS** keyword.  \n",
        "Example:\n",
        "\n",
        "```sql\n",
        "SELECT name AS first_name, hire_date FROM employees;\n",
        "```\n",
        "\n",
        "This changes the column name **name** to **first_name** in the result set, while the actual field name in the table remains unchanged.\n",
        "\n",
        "#### Selecting Distinct Records\n",
        "To retrieve unique values from a column, use the **DISTINCT** keyword.  \n",
        "Example:\n",
        "\n",
        "```sql\n",
        "SELECT DISTINCT year_hired FROM employees;\n",
        "```\n",
        "\n",
        "This removes duplicate years from the result set.\n",
        "\n",
        "#### DISTINCT with Multiple Fields\n",
        "To get unique combinations of multiple fields, apply **DISTINCT** before the field names.  \n",
        "Example:\n",
        "\n",
        "```sql\n",
        "SELECT DISTINCT dept_id, year_hired FROM employees;\n",
        "```\n",
        "\n",
        "This ensures that each department-year hiring combination appears only once.\n",
        "\n",
        "#### Views\n",
        "A **view** is a saved SQL query that acts like a virtual table. Views don’t store data; they store queries, ensuring results are always updated with database changes.\n",
        "\n",
        "To create a view:\n",
        "```sql\n",
        "CREATE VIEW employee_hire_years AS\n",
        "SELECT name, year_hired FROM employees;\n",
        "```\n",
        "\n",
        "This query doesn’t return a result set but saves the query for future use.\n",
        "\n",
        "#### Using Views\n",
        "Once created, a view can be queried like a regular table:\n",
        "\n",
        "```sql\n",
        "SELECT * FROM employee_hire_years;\n",
        "```\n",
        "\n",
        "This retrieves all records from the saved query.\n"
      ],
      "metadata": {
        "id": "XpPZv77-wisN"
      }
    },
    {
      "cell_type": "markdown",
      "source": [
        "### SQL Flavors\n"
      ],
      "metadata": {
        "id": "vMV_hJlZwEdD"
      }
    },
    {
      "cell_type": "markdown",
      "source": [
        "#### Understanding SQL Flavors\n",
        "SQL has multiple versions, or \"flavors,\" ranging from free to enterprise-level databases like Microsoft SQL Server and Oracle Database. All flavors follow universal standards set by ISO and ANSI, differing mainly in additional features.\n",
        "\n",
        "#### Two Popular SQL Flavors\n",
        "1. **PostgreSQL** – A free, open-source relational database system developed at the University of California, Berkeley, with sponsorship from DARPA.\n",
        "2. **SQL Server** – A relational database system created by Microsoft, available in both free and enterprise versions. It pairs well with Microsoft products and uses **T-SQL**, Microsoft’s proprietary SQL flavor.\n",
        "\n",
        "#### Comparing PostgreSQL and SQL Server\n",
        "Both systems are similar but have minor differences in syntax.  \n",
        "For example, to limit query results:\n",
        "- **PostgreSQL** uses `LIMIT`:\n",
        "\n",
        "```pgsql\n",
        "SELECT name, id FROM employees LIMIT 2;\n",
        "```\n",
        "\n",
        "- **SQL Server** uses `TOP`:\n",
        "\n",
        "```pgsql\n",
        "SELECT TOP 2 name, id FROM employees;\n",
        "```\n",
        "\n",
        "#### Choosing a SQL Flavor\n",
        "If an employer requires a specific system, use that flavor. Otherwise, start with any version—PostgreSQL or SQL Server—as the core principles are universal. Mastering the fundamentals makes it easy to switch between flavors.\n",
        "\n",
        "\n"
      ],
      "metadata": {
        "id": "YOGzuOgt3Qh8"
      }
    }
  ]
}