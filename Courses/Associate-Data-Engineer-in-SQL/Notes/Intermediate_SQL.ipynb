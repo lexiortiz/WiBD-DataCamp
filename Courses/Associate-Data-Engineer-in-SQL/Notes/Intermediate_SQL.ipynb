{
  "nbformat": 4,
  "nbformat_minor": 0,
  "metadata": {
    "colab": {
      "provenance": [],
      "authorship_tag": "ABX9TyP7AqloUsIKgdFWkbkRcqU6"
    },
    "kernelspec": {
      "name": "python3",
      "display_name": "Python 3"
    },
    "language_info": {
      "name": "python"
    }
  },
  "cells": [
    {
      "cell_type": "markdown",
      "source": [
        "## Selecting Data"
      ],
      "metadata": {
        "id": "tVvzYJkAIsfm"
      }
    },
    {
      "cell_type": "markdown",
      "source": [
        "### Querying a Database"
      ],
      "metadata": {
        "id": "yT1hH1T5OkJs"
      }
    },
    {
      "cell_type": "markdown",
      "source": [
        "#### Using COUNT()\n",
        "The `COUNT()` function returns the number of records with a value in a specified field.  \n",
        "For example, to count the number of birthdates in the `people` table:\n",
        "\n",
        "```sql\n",
        "SELECT COUNT(birthdate) AS count_birthdates FROM people;\n",
        "```\n",
        "\n",
        "This query returns 6,152 birthdates.\n",
        "\n",
        "#### COUNT() Multiple Fields\n",
        "To count multiple fields, we use `COUNT()` separately for each:\n",
        "\n",
        "```sql\n",
        "SELECT COUNT(name) AS count_names, COUNT(birthdate) AS count_birthdates FROM people;\n",
        "```\n",
        "\n",
        "#### Using * with COUNT()\n",
        "To count all records in a table, use `COUNT(*)`:\n",
        "\n",
        "```sql\n",
        "SELECT COUNT(*) AS total_records FROM people;\n",
        "```\n",
        "\n",
        "The `*` represents all fields and provides the total number of rows.\n",
        "\n",
        "#### DISTINCT\n",
        "The `DISTINCT` keyword filters unique values from a field.\n",
        "\n",
        "For example, to find all unique languages in the `films` table:\n",
        "\n",
        "```sql\n",
        "SELECT DISTINCT(language) FROM films;\n",
        "```\n",
        "\n",
        "#### COUNT() with DISTINCT\n",
        "To count unique values in a field, combine COUNT() with DISTINCT:\n",
        "\n",
        "```sql\n",
        "SELECT COUNT(DISTINCT birthdate) AS unique_birthdates FROM people;\n",
        "```\n",
        "\n",
        "This count differs from `COUNT(birthdate)` because it only includes unique birthdates, **excluding duplicates**.\n"
      ],
      "metadata": {
        "id": "O2M7DZGEIwke"
      }
    },
    {
      "cell_type": "markdown",
      "source": [
        "### Query Execution"
      ],
      "metadata": {
        "id": "JQIDW1nJWGvV"
      }
    },
    {
      "cell_type": "markdown",
      "source": [
        "#### SQL Processing Order  \n",
        "SQL queries are **not executed in the order they are written**.  \n",
        "Think of it like grabbing a coat from a closet:\n",
        "1. **FROM** – Identify the source table.\n",
        "2. **SELECT** – Choose which data to retrieve.\n",
        "3. **LIMIT** – Refine the results by restricting the number of records.\n",
        "\n",
        "For example, to retrieve the first 10 names from the `people` table:\n",
        "\n",
        "```sql\n",
        "SELECT name FROM people LIMIT 10;\n",
        "```\n",
        "\n",
        "Understanding this order is crucial for debugging and using aliases correctly.\n",
        "\n",
        "#### Debugging SQL\n",
        "**Common SQL Errors**\n",
        "* **Misspelled Field Names**\n",
        "    SQL often provides helpful error messages, pinpointing missing or incorrect fields.\n",
        "\n",
        "* **Comma Errors**\n",
        "    Missing commas can cause vague error messages.\n",
        "    Example of a mistake:\n",
        "\n",
        "  ```sql\n",
        "  SELECT title country duration FROM films;\n",
        "  ```\n",
        "  The missing comma between **title** and **country** causes an error.\n",
        "\n",
        "  Corrected version:\n",
        "  ```sql\n",
        "  SELECT title, country, duration FROM films;\n",
        "  ```\n",
        "\n",
        "* **Keyword Errors**\n",
        "Misspelling SQL keywords (e.g., **SELET** instead of **SELECT**) triggers immediate errors.\n"
      ],
      "metadata": {
        "id": "m_rLpAkgWN9o"
      }
    },
    {
      "cell_type": "markdown",
      "source": [
        "### SQL Style"
      ],
      "metadata": {
        "id": "nnDU-Dy9WORP"
      }
    },
    {
      "cell_type": "markdown",
      "source": [
        "SQL is flexible with formatting—capitalization, indentation, and new lines are not required. However, properly formatting queries makes them easier to read and maintain, especially as they grow in complexity.  \n",
        "\n",
        "#### Best Practices  \n",
        "\n",
        "SQL users follow industry-accepted formatting standards. A well-structured query improves readability by:  \n",
        "- Capitalizing SQL keywords (**SELECT, FROM, WHERE**)  \n",
        "- Placing each clause on a new line  \n",
        "\n",
        "Example of a properly formatted query:  \n",
        "\n",
        "```sql\n",
        "SELECT title, release_year, country  \n",
        "FROM films  \n",
        "WHERE release_year > 2000;\n",
        "```\n",
        "\n",
        "#### Style Guides\n",
        "While some formatting conventions are standard (capitalization, line breaks), others vary by preference.\n",
        "For example, some developers prefer each selected field on a new line:\n",
        "\n",
        "```sql\n",
        "SELECT  \n",
        "    title,  \n",
        "    release_year,  \n",
        "    country  \n",
        "FROM films;\n",
        "```\n",
        "\n",
        "To maintain consistency, follow a SQL style guide like Holywell’s, which defines best practices for indentation, capitalization, and naming conventions.\n",
        "\n",
        "#### Semicolon Usage\n",
        "A semicolon (`;`) is not required in PostgreSQL but is considered best practice because:\n",
        "\n",
        "1. Some SQL flavors require it.\n",
        "2. It helps when migrating queries between different SQL systems.\n",
        "3. It clearly marks the end of a query, especially in multi-query scripts.\n",
        "\n",
        "Example:\n",
        "```sql\n",
        "SELECT title FROM films WHERE release_year > 2000;\n",
        "```\n",
        "\n",
        "#### Dealing with Non-Standard Field Names\n",
        "Sometimes, field names contain spaces, which is a SQL mistake. To query such fields, use double quotes:\n",
        "\n",
        "```sql\n",
        "SELECT \"release year\" FROM films;\n",
        "```\n",
        "\n",
        "Avoid spaces in field names by using underscores instead:\n",
        "\n",
        "```sql\n",
        "CREATE TABLE films (release_year INT);\n",
        "```\n",
        "\n",
        "#### Why Do We Format?\n",
        "Proper SQL formatting enhances:\n",
        "\n",
        "* **Collaboration** – Easier for teams to read and debug queries.\n",
        "* **Professionalism** – Clean, structured code is valued in the industry.\n",
        "* **Maintainability** – Well-formatted queries are easier to update and troubleshoot.\n",
        "\n"
      ],
      "metadata": {
        "id": "0OkK4AUdWRRQ"
      }
    },
    {
      "cell_type": "markdown",
      "source": [
        "## Filtering Records"
      ],
      "metadata": {
        "id": "6pufdhirIw39"
      }
    },
    {
      "cell_type": "markdown",
      "source": [],
      "metadata": {
        "id": "XLzsOdHLIz3_"
      }
    },
    {
      "cell_type": "markdown",
      "source": [
        "## Aggregate Functions"
      ],
      "metadata": {
        "id": "NiMZwAGzI0G7"
      }
    },
    {
      "cell_type": "markdown",
      "source": [],
      "metadata": {
        "id": "HFMLNN0UI2b9"
      }
    },
    {
      "cell_type": "markdown",
      "source": [
        "## Sorting and Grouping"
      ],
      "metadata": {
        "id": "mPq1I7ZTI2pJ"
      }
    },
    {
      "cell_type": "markdown",
      "source": [],
      "metadata": {
        "id": "lh8AWTVTI6Jo"
      }
    }
  ]
}