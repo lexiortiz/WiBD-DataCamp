{
  "nbformat": 4,
  "nbformat_minor": 0,
  "metadata": {
    "colab": {
      "provenance": [],
      "authorship_tag": "ABX9TyNJQcoEc+QuI7Z4u8V2/8WL"
    },
    "kernelspec": {
      "name": "python3",
      "display_name": "Python 3"
    },
    "language_info": {
      "name": "python"
    }
  },
  "cells": [
    {
      "cell_type": "markdown",
      "source": [
        "## Selecting Data"
      ],
      "metadata": {
        "id": "tVvzYJkAIsfm"
      }
    },
    {
      "cell_type": "markdown",
      "source": [
        "### Querying a Database"
      ],
      "metadata": {
        "id": "yT1hH1T5OkJs"
      }
    },
    {
      "cell_type": "markdown",
      "source": [
        "#### Using COUNT()\n",
        "The `COUNT()` function returns the number of records with a value in a specified field.  \n",
        "For example, to count the number of birthdates in the `people` table:\n",
        "\n",
        "```sql\n",
        "SELECT COUNT(birthdate) AS count_birthdates FROM people;\n",
        "```\n",
        "\n",
        "This query returns 6,152 birthdates.\n",
        "\n",
        "#### COUNT() Multiple Fields\n",
        "To count multiple fields, we use `COUNT()` separately for each:\n",
        "\n",
        "```sql\n",
        "SELECT COUNT(name) AS count_names, COUNT(birthdate) AS count_birthdates FROM people;\n",
        "```\n",
        "\n",
        "#### Using * with COUNT()\n",
        "To count all records in a table, use `COUNT(*)`:\n",
        "\n",
        "```sql\n",
        "SELECT COUNT(*) AS total_records FROM people;\n",
        "```\n",
        "\n",
        "The `*` represents all fields and provides the total number of rows.\n",
        "\n",
        "#### DISTINCT\n",
        "The `DISTINCT` keyword filters unique values from a field.\n",
        "\n",
        "For example, to find all unique languages in the `films` table:\n",
        "\n",
        "```sql\n",
        "SELECT DISTINCT(language) FROM films;\n",
        "```\n",
        "\n",
        "#### COUNT() with DISTINCT\n",
        "To count unique values in a field, combine COUNT() with DISTINCT:\n",
        "\n",
        "```sql\n",
        "SELECT COUNT(DISTINCT birthdate) AS unique_birthdates FROM people;\n",
        "```\n",
        "\n",
        "This count differs from `COUNT(birthdate)` because it only includes unique birthdates, **excluding duplicates**.\n"
      ],
      "metadata": {
        "id": "O2M7DZGEIwke"
      }
    },
    {
      "cell_type": "markdown",
      "source": [
        "### Query Execution"
      ],
      "metadata": {
        "id": "JQIDW1nJWGvV"
      }
    },
    {
      "cell_type": "markdown",
      "source": [
        "#### SQL Processing Order  \n",
        "SQL queries are **not executed in the order they are written**.  \n",
        "Think of it like grabbing a coat from a closet:\n",
        "1. **FROM** – Identify the source table.\n",
        "2. **SELECT** – Choose which data to retrieve.\n",
        "3. **LIMIT** – Refine the results by restricting the number of records.\n",
        "\n",
        "For example, to retrieve the first 10 names from the `people` table:\n",
        "\n",
        "```sql\n",
        "SELECT name FROM people LIMIT 10;\n",
        "```\n",
        "\n",
        "Understanding this order is crucial for debugging and using aliases correctly.\n",
        "\n",
        "#### Debugging SQL\n",
        "**Common SQL Errors**\n",
        "* **Misspelled Field Names**\n",
        "    SQL often provides helpful error messages, pinpointing missing or incorrect fields.\n",
        "\n",
        "* **Comma Errors**\n",
        "    Missing commas can cause vague error messages.\n",
        "    Example of a mistake:\n",
        "\n",
        "  ```sql\n",
        "  SELECT title country duration FROM films;\n",
        "  ```\n",
        "  The missing comma between **title** and **country** causes an error.\n",
        "\n",
        "  Corrected version:\n",
        "  ```sql\n",
        "  SELECT title, country, duration FROM films;\n",
        "  ```\n",
        "\n",
        "* **Keyword Errors**\n",
        "Misspelling SQL keywords (e.g., **SELET** instead of **SELECT**) triggers immediate errors.\n"
      ],
      "metadata": {
        "id": "m_rLpAkgWN9o"
      }
    },
    {
      "cell_type": "markdown",
      "source": [
        "### SQL Style"
      ],
      "metadata": {
        "id": "nnDU-Dy9WORP"
      }
    },
    {
      "cell_type": "markdown",
      "source": [
        "SQL is flexible with formatting—capitalization, indentation, and new lines are not required. However, properly formatting queries makes them easier to read and maintain, especially as they grow in complexity.  \n",
        "\n",
        "#### Best Practices  \n",
        "\n",
        "SQL users follow industry-accepted formatting standards. A well-structured query improves readability by:  \n",
        "- Capitalizing SQL keywords (**SELECT, FROM, WHERE**)  \n",
        "- Placing each clause on a new line  \n",
        "\n",
        "Example of a properly formatted query:  \n",
        "\n",
        "```sql\n",
        "SELECT title, release_year, country  \n",
        "FROM films  \n",
        "WHERE release_year > 2000;\n",
        "```\n",
        "\n",
        "#### Style Guides\n",
        "While some formatting conventions are standard (capitalization, line breaks), others vary by preference.\n",
        "For example, some developers prefer each selected field on a new line:\n",
        "\n",
        "```sql\n",
        "SELECT  \n",
        "    title,  \n",
        "    release_year,  \n",
        "    country  \n",
        "FROM films;\n",
        "```\n",
        "\n",
        "To maintain consistency, follow a SQL style guide like Holywell’s, which defines best practices for indentation, capitalization, and naming conventions.\n",
        "\n",
        "#### Semicolon Usage\n",
        "A semicolon (`;`) is not required in PostgreSQL but is considered best practice because:\n",
        "\n",
        "1. Some SQL flavors require it.\n",
        "2. It helps when migrating queries between different SQL systems.\n",
        "3. It clearly marks the end of a query, especially in multi-query scripts.\n",
        "\n",
        "Example:\n",
        "```sql\n",
        "SELECT title FROM films WHERE release_year > 2000;\n",
        "```\n",
        "\n",
        "#### Dealing with Non-Standard Field Names\n",
        "Sometimes, field names contain spaces, which is a SQL mistake. To query such fields, use double quotes:\n",
        "\n",
        "```sql\n",
        "SELECT \"release year\" FROM films;\n",
        "```\n",
        "\n",
        "Avoid spaces in field names by using underscores instead:\n",
        "\n",
        "```sql\n",
        "CREATE TABLE films (release_year INT);\n",
        "```\n",
        "\n",
        "#### Why Do We Format?\n",
        "Proper SQL formatting enhances:\n",
        "\n",
        "* **Collaboration** – Easier for teams to read and debug queries.\n",
        "* **Professionalism** – Clean, structured code is valued in the industry.\n",
        "* **Maintainability** – Well-formatted queries are easier to update and troubleshoot.\n",
        "\n"
      ],
      "metadata": {
        "id": "0OkK4AUdWRRQ"
      }
    },
    {
      "cell_type": "markdown",
      "source": [
        "## Filtering Records"
      ],
      "metadata": {
        "id": "6pufdhirIw39"
      }
    },
    {
      "cell_type": "markdown",
      "source": [
        "### Filtering Numbers  \n",
        "\n",
        "The **WHERE** clause allows us to filter data based on specific conditions, ensuring we retrieve only relevant information.  "
      ],
      "metadata": {
        "id": "XLzsOdHLIz3_"
      }
    },
    {
      "cell_type": "markdown",
      "source": [
        "#### WHERE with Comparison Operators  \n",
        "\n",
        "To filter numerical values, we use **comparison operators**:  \n",
        "\n",
        "- **Greater than (`>`)** – Filters values **above** a threshold.  \n",
        "  ```sql\n",
        "  SELECT title FROM films WHERE release_year > 1960;\n",
        "  ```\n",
        "- **Less than (`<`)** – Filters values below a threshold.\n",
        "  ```sql\n",
        "  SELECT title FROM films WHERE release_year < 1960;\n",
        "  ```\n",
        "- **Less than or equal to (`<=`)** – Includes values up to a certain threshold.\n",
        "  ```sql\n",
        "  SELECT title FROM films WHERE release_year <= 1960;\n",
        "  ```\n",
        "- **Equal to (`=`)** – Filters for an exact match.\n",
        "  ```sql\n",
        "  SELECT title FROM films WHERE release_year = 1960;\n",
        "  ```\n",
        "- **Not equal to (`!=`)** – Excludes a specific value.\n",
        "  ```sql\n",
        "  SELECT title FROM films WHERE release_year != 1960;\n",
        "  ```\n",
        "  (This filters out films released in 1960.)\n",
        "\n",
        "\n",
        "#### WHERE with Strings\n",
        "The WHERE clause can also filter text-based fields. When filtering by string values, enclose them in single quotes (`' '`):\n",
        "```sql\n",
        "SELECT title FROM films WHERE country = 'Japan';\n",
        "```"
      ],
      "metadata": {
        "id": "4NCcZqxMZ0nq"
      }
    },
    {
      "cell_type": "markdown",
      "source": [
        "#### Order of Execution"
      ],
      "metadata": {
        "id": "SKcJnoPXXvg2"
      }
    },
    {
      "cell_type": "markdown",
      "source": [
        "Although SQL queries are written in a specific order, they are executed differently:\n",
        "\n",
        "- Written Order: `SELECT → FROM → WHERE → LIMIT`\n",
        "- Execution Order: `FROM → WHERE → SELECT → LIMIT`\n",
        "\n",
        "Example: If retrieving five green coats, we first open the closet (FROM), then filter by color (WHERE), select the coats (SELECT), and finally limit the selection to five (LIMIT).\n",
        "\n",
        "```sql\n",
        "SELECT title FROM films  \n",
        "FROM movies  \n",
        "WHERE genre = 'Comedy'  \n",
        "LIMIT 5;\n",
        "```"
      ],
      "metadata": {
        "id": "_vMmZUiwZ9eO"
      }
    },
    {
      "cell_type": "markdown",
      "source": [
        "### Multiple Criteria"
      ],
      "metadata": {
        "id": "6ONrtOhdaDAN"
      }
    },
    {
      "cell_type": "markdown",
      "source": [
        "Enhancing Filters  \n",
        "\n",
        "When filtering data, we often need to apply **multiple criteria**. SQL provides three powerful keywords to refine our queries: **OR, AND, and BETWEEN**.  \n",
        "\n",
        "#### OR Operator  \n",
        "\n",
        "The **OR** operator allows filtering by **at least one** of multiple conditions.  \n",
        "\n",
        "- Example: Selecting films released in **1994 OR 2000**:  \n",
        "  ```sql\n",
        "  SELECT title FROM films  \n",
        "  WHERE release_year = 1994 OR release_year = 2000;\n",
        "  ```\n",
        "\n",
        "Important: Each OR condition must specify the field name.\n",
        "\n",
        "#### AND Operator\n",
        "\n",
        "The AND operator ensures all conditions must be met.\n",
        "\n",
        "- Example: Filtering films released between 1994 and 2000:\n",
        "  ```sql\n",
        "  SELECT title FROM films  \n",
        "  WHERE release_year >= 1994 AND release_year <= 2000;\n",
        "  ```\n",
        "\n",
        "#### Combining AND and OR\n",
        "For complex queries, we can combine AND and OR, but must use parentheses to ensure proper execution order.\n",
        "\n",
        "- Example: Films released in 1994 OR 1995, AND certified PG or R:\n",
        "  ```sql\n",
        "  SELECT title FROM films  \n",
        "  WHERE (release_year = 1994 OR release_year = 1995)  \n",
        "  AND (certification = 'PG' OR certification = 'R');\n",
        "  ```\n",
        "\n",
        "#### BETWEEN Operator\n",
        "To check for ranges, SQL provides the BETWEEN keyword, which is inclusive (includes both boundary values).\n",
        "\n",
        "- Example: Films released between 1994 and 2000:\n",
        "  ```sql\n",
        "  SELECT title FROM films  \n",
        "  WHERE release_year BETWEEN 1994 AND 2000;\n",
        "  ```\n",
        "  (Equivalent to using >= and <= separately.)\n",
        "\n",
        "#### Using BETWEEN with AND and OR\n",
        "The BETWEEN clause can be combined with AND and OR for even more powerful filtering.\n",
        "\n",
        "- Example: Films released between 1994 and 2000 from the United Kingdom:\n",
        "  ```sql\n",
        "  SELECT title FROM films  \n",
        "  WHERE release_year BETWEEN 1994 AND 2000  \n",
        "  AND country = 'United Kingdom';\n",
        "  ```\n",
        "\n",
        "By mastering OR, AND, and BETWEEN, we can create more precise and efficient queries to extract meaningful insights from our data.\n",
        "\n"
      ],
      "metadata": {
        "id": "dOS9lQ9Daa0S"
      }
    },
    {
      "cell_type": "markdown",
      "source": [
        "### Filtering Text"
      ],
      "metadata": {
        "id": "lC3rmqNoaKPO"
      }
    },
    {
      "cell_type": "markdown",
      "source": [
        "\n",
        "When filtering text data, we often need more flexibility than just specifying exact matches. SQL provides powerful **pattern-matching operators** to refine our text-based searches.  \n",
        "\n",
        "#### LIKE Operator  \n",
        "\n",
        "The **LIKE** operator allows searching for patterns in text fields using **wildcards**:  \n",
        "- `%` (percent) matches **zero, one, or multiple** characters.  \n",
        "- `_` (underscore) matches **exactly one** character.  \n",
        "\n",
        "**Example:** Finding names that start with \"Ad\":  \n",
        "```sql\n",
        "SELECT name FROM people  \n",
        "WHERE name LIKE 'Ad%';\n",
        "```\n",
        "\n",
        "Matches: Adel, Adelaide, Aden\n",
        "\n",
        "Example: Finding three-letter names:\n",
        "```sql\n",
        "SELECT name FROM people  \n",
        "WHERE name LIKE 'E_e';\n",
        "```\n",
        "Matches: Eve, Eze but not Eva Mendes.\n",
        "\n",
        "#### NOT LIKE Operator\n",
        "The NOT LIKE operator finds records that do not match a pattern.\n",
        "\n",
        "Example: Excluding names that start with \"A.\":\n",
        "```sql\n",
        "SELECT name FROM people  \n",
        "WHERE name NOT LIKE 'A._%';\n",
        "```\n",
        "Note: LIKE and NOT LIKE are case-sensitive, so queries must account for letter casing.\n",
        "\n",
        "#### Wildcard Positioning\n",
        "Wildcards can be placed anywhere in the pattern and even combined.\n",
        "\n",
        "Example:\n",
        "\n",
        "- Names ending in \"r\":\n",
        "  ```sql\n",
        "  WHERE name LIKE '%r';\n",
        "  ```\n",
        "- Names where the third character is \"t\":\n",
        "  ```sql\n",
        "  WHERE name LIKE '__t%';\n",
        "  ```\n",
        "\n",
        "#### Using WHERE with OR\n",
        "When filtering based on multiple specific values, using multiple OR conditions can become inefficient.\n",
        "\n",
        "Example:\n",
        "```sql\n",
        "SELECT title FROM films  \n",
        "WHERE release_year = 1920  \n",
        "OR release_year = 1930  \n",
        "OR release_year = 1940;\n",
        "```\n",
        "\n",
        "#### IN Operator\n",
        "The IN operator simplifies multiple OR conditions by allowing a list of values.\n",
        "\n",
        "Example:\n",
        "```sql\n",
        "SELECT title FROM films  \n",
        "WHERE release_year IN (1920, 1930, 1940);\n",
        "```\n",
        "Equivalent to the previous OR query but cleaner and faster.\n",
        "\n",
        "#### Using IN with Text Fields\n",
        "The IN operator also works for text-based conditions.\n",
        "\n",
        "Example: Selecting films from Germany or France:\n",
        "```sql\n",
        "SELECT title FROM films  \n",
        "WHERE country IN ('Germany', 'France');\n",
        "```\n",
        "\n",
        "By leveraging LIKE, NOT LIKE, IN, and OR, we can create precise and flexible SQL queries for filtering text-based data effectively!\n",
        "\n"
      ],
      "metadata": {
        "id": "wiEcZfOO3Zuq"
      }
    },
    {
      "cell_type": "markdown",
      "source": [
        "### Null Values"
      ],
      "metadata": {
        "id": "QZj5MxvxaWY4"
      }
    },
    {
      "cell_type": "markdown",
      "source": [
        "In SQL, **NULL** represents a **missing or unknown value**. This is crucial because real-world databases often contain empty fields due to **human error, unavailable information, or unknown data**. Handling NULL values correctly is essential for accurate data analysis.  \n",
        "\n",
        "#### Understanding NULL  \n",
        "\n",
        "For example, when analyzing **posthumous success** using a \"deathdate\" field, we might assume that all people in the dataset have a recorded death date. However, if **half the values are NULL**, this could lead to incorrect conclusions.  \n",
        "\n",
        "\n",
        "#### IS NULL: Identifying Missing Data  \n",
        "\n",
        "To check for missing values in a dataset, we can use the **IS NULL** operator with the **WHERE** clause.  \n",
        "\n",
        "**Example:** Finding people without a recorded birthdate:  \n",
        "```sql\n",
        "SELECT name FROM people  \n",
        "WHERE birthdate IS NULL;\n",
        "```\n",
        "\n",
        "#### IS NOT NULL: Filtering Out Missing Data\n",
        "If we want to exclude missing values and only return rows with existing data, we use IS NOT NULL.\n",
        "\n",
        "Example: Counting people with a recorded birthdate:\n",
        "```sql\n",
        "SELECT COUNT(*) FROM people  \n",
        "WHERE birthdate IS NOT NULL;\n",
        "```\n",
        "This ensures our analysis only considers non-missing values.\n",
        "\n",
        "#### COUNT() vs. IS NOT NULL\n",
        "There is no difference between:\n",
        "```sql\n",
        "SELECT COUNT(birthdate) FROM people;\n",
        "```\n",
        "and\n",
        "```sql\n",
        "SELECT COUNT(*) FROM people  \n",
        "WHERE birthdate IS NOT NULL;\n",
        "```\n",
        "Both queries count only non-missing values in the \"birthdate\" field.\n",
        "\n",
        "\n",
        "#### Summary: NULL in SQL\n",
        "- NULL = missing or unknown value\n",
        "- Use IS NULL to identify missing values\n",
        "- Use IS NOT NULL to filter out missing values\n",
        "- COUNT(field) and COUNT(*) with IS NOT NULL give the same results\n",
        "\n",
        "Since NULL values are common, learning to handle them effectively will become second nature in SQL!\n",
        "\n",
        "\n"
      ],
      "metadata": {
        "id": "RvzEyrWE99N1"
      }
    },
    {
      "cell_type": "markdown",
      "source": [
        "## Aggregate Functions"
      ],
      "metadata": {
        "id": "NiMZwAGzI0G7"
      }
    },
    {
      "cell_type": "markdown",
      "source": [],
      "metadata": {
        "id": "HFMLNN0UI2b9"
      }
    },
    {
      "cell_type": "markdown",
      "source": [
        "## Sorting and Grouping"
      ],
      "metadata": {
        "id": "mPq1I7ZTI2pJ"
      }
    },
    {
      "cell_type": "markdown",
      "source": [],
      "metadata": {
        "id": "lh8AWTVTI6Jo"
      }
    }
  ]
}