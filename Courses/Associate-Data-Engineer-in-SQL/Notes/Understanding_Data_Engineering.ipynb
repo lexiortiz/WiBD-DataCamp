{
  "nbformat": 4,
  "nbformat_minor": 0,
  "metadata": {
    "colab": {
      "provenance": [],
      "authorship_tag": "ABX9TyO70XbF9j1QZZlpjZiLNZbI"
    },
    "kernelspec": {
      "name": "python3",
      "display_name": "Python 3"
    },
    "language_info": {
      "name": "python"
    }
  },
  "cells": [
    {
      "cell_type": "markdown",
      "source": [
        "# Storing Data"
      ],
      "metadata": {
        "id": "tzrn7FfMpH_b"
      }
    },
    {
      "cell_type": "markdown",
      "source": [
        "## Data Structures\n",
        "\n"
      ],
      "metadata": {
        "id": "h7WvLGdWpLDr"
      }
    },
    {
      "cell_type": "markdown",
      "source": [
        "[Slides: Data Structures](https://drive.google.com/open?id=1unuzodcSQ4De9SQJXoj0yAdWGvZ1IPBw&usp=drive_fs)"
      ],
      "metadata": {
        "id": "Wq6y2u8wO_uc"
      }
    },
    {
      "cell_type": "markdown",
      "source": [
        "### Structured Data\n",
        "**Structured data** is **highly organized** and easy to search. It follows a rigid format, like a spreadsheet with predefined columns. Each column contains specific data types such as text, date, or decimal values. This structured format allows for easy relationships between data, making it suitable for **relational databases**.\n",
        "\n",
        "- **Example**: SQL (Structured Query Language) is used to query structured data.\n",
        "- **Prevalence**: About 20% of data is structured."
      ],
      "metadata": {
        "id": "HlMdS0VgvQUn"
      }
    },
    {
      "cell_type": "markdown",
      "source": [
        "#### Employee Table\n",
        "\n",
        "A structured data example is Spotflix's employee table:\n",
        "\n",
        "- Each row represents an employee.\n",
        "- Each column contains specific information (e.g., team, role).\n",
        "- The index serves as a unique identifier.\n",
        "- Logical values (e.g., true/false) exist for certain attributes.\n",
        "\n",
        "### Relational Database\n",
        "Structured data can be connected across multiple tables to form a relational database.\n",
        "\n",
        "- **Example**: An employee table can relate to an office table through a shared column."
      ],
      "metadata": {
        "id": "7tnwsqF4M7t0"
      }
    },
    {
      "cell_type": "markdown",
      "source": [
        "### Semi-Structured Data\n",
        "Semi-structured data is more **flexible** than structured data but still maintains some level of organization.\n",
        "\n",
        "- It allows for varying numbers of attributes within records.\n",
        "- It can be grouped to form relationships, though less straightforward than structured data.\n",
        "- **Stored in**: NoSQL databases (e.g., JSON, XML, YAML formats).\n",
        "\n",
        "### Favorite Artists JSON File\n",
        "Example of a JSON file storing users' favorite artists:"
      ],
      "metadata": {
        "id": "Ro5NLpu_wTQ2"
      }
    },
    {
      "cell_type": "code",
      "source": [
        "json\n",
        "{\n",
        "  \"user_id\": 123,\n",
        "  \"first_name\": \"John\",\n",
        "  \"last_name\": \"Doe\",\n",
        "  \"favorite_artists\": [\"Artist A\", \"Artist B\", \"Artist C\"]\n",
        "}"
      ],
      "metadata": {
        "id": "gvfZC6-jtz5N"
      },
      "execution_count": null,
      "outputs": []
    },
    {
      "cell_type": "markdown",
      "source": [
        "* Users have varying numbers of favorite artists.\n",
        "* This flexibility is not possible in relational databases.\n",
        "\n",
        "### Unstructured Data\n",
        "Unstructured data **does not follow a fixed model** and cannot be stored in traditional rows and columns.\n",
        "\n",
        "* Examples: Text, audio, images, videos.\n",
        "* Storage: Typically stored in data lakes, but can also appear in data warehouses or databases.\n",
        "* Challenges: Hard to search and organize.\n",
        "* Solution: Machine learning and AI help extract value from unstructured data.\n",
        "\n",
        "#### Spotflix's Unstructured Data\n",
        "Spotflix deals with various forms of unstructured data, including:\n",
        "\n",
        "* Lyrics\n",
        "* Songs\n",
        "* Pictures (album covers, artist profiles)\n",
        "* Videos (music videos)\n",
        "\n",
        "##### Adding Some Structure\n",
        "To improve searchability, Spotflix could:\n",
        "\n",
        "* Use **machine learning** to analyze song spectrums, BPM, chord progressions, and genres.\n",
        "* Ask artists to provide metadata (e.g., genre, tags), making data **semi-structured**.\n"
      ],
      "metadata": {
        "id": "zQIoAn4ct022"
      }
    },
    {
      "cell_type": "markdown",
      "source": [
        "### Summary\n",
        "* **Structured data**: Rigid format, easily searchable, used in relational databases.\n",
        "* **Semi-structured data**: Some organization, flexible attributes, stored in NoSQL formats.\n",
        "* **Unstructured data**: No predefined model, harder to manage but valuable with AI/ML."
      ],
      "metadata": {
        "id": "honfuPZhv_Sz"
      }
    },
    {
      "cell_type": "markdown",
      "source": [
        "## SQL Databases"
      ],
      "metadata": {
        "id": "nYA-xzxTw59S"
      }
    },
    {
      "cell_type": "markdown",
      "source": [
        "### SQL Overview\n",
        "SQL (Structured Query Language) is the standard language for querying **Relational Database Management Systems (RDBMS)**. It allows for accessing multiple records at once, filtering, grouping, and aggregating data. SQL is widely used by **data engineers** to create and maintain databases and by **data scientists** to query them.\n"
      ],
      "metadata": {
        "id": "v8G6--8Qx0Zz"
      }
    },
    {
      "cell_type": "markdown",
      "source": [
        "### SQL for Data Engineers\n",
        "Data engineers use SQL to **create and manage databases**. Below is an example of creating an `employees` table:\n",
        "\n"
      ],
      "metadata": {
        "id": "SjmO4O-ISTNM"
      }
    },
    {
      "cell_type": "markdown",
      "source": [
        "\n",
        "\n",
        "``` sql\n",
        "CREATE TABLE employees (\n",
        "    employee_id INT,\n",
        "    first_name VARCHAR(255),\n",
        "    last_name VARCHAR(255),\n",
        "    role VARCHAR(255),\n",
        "    team VARCHAR(255),\n",
        "    full_time BOOLEAN,\n",
        "    office VARCHAR(255)\n",
        ");\n",
        "```\n",
        "\n",
        "- `INT` stores whole numbers (e.g., `employee_id`).\n",
        "- `VARCHAR(255)` stores text with a max length of 255 characters (e.g., `first_name`, `last_name`).\n",
        "- `BOOLEAN` holds logical values (`0` for false, `1` for true`).\n",
        "\n",
        "Data engineers use additional SQL statements to **update** and **insert records** into tables.\n",
        "\n",
        "``` sql\n",
        "SELECT first_name, last_name\n",
        "FROM employees\n",
        "WHERE role LIKE '%Data%';\n",
        "```\n",
        "* The `%` wildcard allows `\"Data\"` to appear **anywhere** in the role title.\n"
      ],
      "metadata": {
        "id": "m8AAWH4-SeQe"
      }
    },
    {
      "cell_type": "markdown",
      "source": [
        "### Database Schema\n",
        "Databases consist of multiple related tables. The **schema** defines how they are connected."
      ],
      "metadata": {
        "id": "TjFBtesQSU0j"
      }
    },
    {
      "cell_type": "markdown",
      "source": [
        "### Spotflix Database Example\n",
        "Spotflix organizes its music data using multiple related tables:\n",
        "\n",
        "#### Albums Table\n",
        "- Stores album details (`album_id`, `artist_id`, `title`, etc.).\n",
        "\n",
        "#### Artists Table\n",
        "- Stores artist details (`artist_id`, `name`, `biography`).\n",
        "\n",
        "#### Linking Albums and Artists\n",
        "- The `artist_id` connects the **artists** table to the **albums** table.\n",
        "\n",
        "#### Songs Table\n",
        "- Stores song details (`song_id`, `album_id`, `title`, etc.).\n",
        "\n",
        "#### Linking Albums and Songs\n",
        "- The `album_id` connects the **albums** table to the **songs** table.\n",
        "\n",
        "#### Playlists Table\n",
        "- Stores playlist details (`playlist_id`, `user_id`, `song_id`, etc.).\n",
        "\n",
        "#### Linking Playlists and Songs\n",
        "- The `song_id` connects the **playlists** table to the **songs** table.\n",
        "\n",
        "These relationships define **relational databases**, allowing efficient **data retrieval and organization**.\n"
      ],
      "metadata": {
        "id": "_3ZQGE5ITfZc"
      }
    },
    {
      "cell_type": "markdown",
      "source": [
        "### SQL Implementations\n",
        "Different SQL implementations exist, such as **MySQL, PostgreSQL, SQLite, and SQL Server**. While there are slight differences, they are mostly interchangeable—similar to switching between different keyboard layouts.\n",
        "\n",
        "### Summary\n",
        "- **SQL** is the **language of reference** for relational databases.\n",
        "- **Data engineers** create and manage tables.\n",
        "- **Data scientists** query and analyze data.\n",
        "- **Database schemas** define table relationships."
      ],
      "metadata": {
        "id": "4_7qg5QDTjZZ"
      }
    },
    {
      "cell_type": "markdown",
      "source": [
        "## Data Warehouses & Data Lakes"
      ],
      "metadata": {
        "id": "yA4L-7Uoxiiv"
      }
    },
    {
      "cell_type": "markdown",
      "source": [
        "### Data Pipeline Overview  \n",
        "A data pipeline **collects and processes data from different sources**, storing it in either a data lake or a data warehouse."
      ],
      "metadata": {
        "id": "W2UOJfidxwmP"
      }
    },
    {
      "cell_type": "markdown",
      "source": [
        "### Data Lakes vs. Data Warehouses  \n",
        "\n",
        "#### Data Lake  \n",
        "Stores all collected **raw data** in its original form, whether **structured, semi-structured, or unstructured**.  \n",
        "\n",
        "**Characteristics:**  \n",
        "- Can handle **petabytes** of data.  \n",
        "- **No enforced structure**, making it cost-effective but harder to analyze.  \n",
        "- Used for **real-time analytics** on big data.  \n",
        "- Requires a **data catalog** to avoid becoming a **data swamp**.  \n",
        "\n",
        "#### Data Warehouse  \n",
        "Stores **specific, structured data** optimized for analytics.  \n",
        "\n",
        "**Characteristics:**  \n",
        "- More **costly** to manipulate due to enforced structure.  \n",
        "- Used for **read-only, ad-hoc queries** like aggregation and summarization.  \n",
        "- Supports **business decision-making** with structured analytics.\n"
      ],
      "metadata": {
        "id": "YSqfN61PV5PN"
      }
    },
    {
      "cell_type": "markdown",
      "source": [
        "### Data Catalog for Data Lakes  \n",
        "A **data catalog** is a metadata management tool that helps organizations **organize, track, and manage** data assets within a data ecosystem; essential for managing **data lakes** due to their lack of structure.  \n",
        "\n",
        "- Tracks **data sources, usage, ownership, and update frequency**.  \n",
        "- Supports **data governance** (availability, usability, integrity, security).  \n",
        "- Ensures **reproducibility** of analyses.  \n",
        "- Prevents the **data lake** from turning into a **data swamp**.  \n",
        ""
      ],
      "metadata": {
        "id": "sCIFy0qcWxmH"
      }
    },
    {
      "cell_type": "markdown",
      "source": [
        "### Database vs. Data Warehouse  \n",
        "- **Database**: A **broad term** for any organized collection of data stored on a computer.  \n",
        "- **Data Warehouse**: A **specific type of database** designed for structured, analytical queries.  "
      ],
      "metadata": {
        "id": "Z8Qq34AGW0CI"
      }
    },
    {
      "cell_type": "markdown",
      "source": [
        "### Summary  \n",
        "- **Data lakes** store raw, unstructured data and require a **data catalog**.  \n",
        "- **Data warehouses** store structured data for analytics.  \n",
        "- **Data catalogs** ensure scalability and prevent reliance on **tribal knowledge**.  \n",
        "- **Databases** are a general category, while **data warehouses** are a specialized type of database."
      ],
      "metadata": {
        "id": "jgRyldQHW3tG"
      }
    }
  ]
}