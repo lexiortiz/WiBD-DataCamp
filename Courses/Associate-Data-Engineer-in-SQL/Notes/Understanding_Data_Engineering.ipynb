{
  "nbformat": 4,
  "nbformat_minor": 0,
  "metadata": {
    "colab": {
      "provenance": [],
      "toc_visible": true,
      "authorship_tag": "ABX9TyMezbW5sTErk4Xd6pK5zBUw"
    },
    "kernelspec": {
      "name": "python3",
      "display_name": "Python 3"
    },
    "language_info": {
      "name": "python"
    }
  },
  "cells": [
    {
      "cell_type": "markdown",
      "source": [
        "# Storing Data"
      ],
      "metadata": {
        "id": "tzrn7FfMpH_b"
      }
    },
    {
      "cell_type": "markdown",
      "source": [
        "## Data Structures\n",
        "\n"
      ],
      "metadata": {
        "id": "h7WvLGdWpLDr"
      }
    },
    {
      "cell_type": "markdown",
      "source": [
        "[Slides: Data Structures](https://drive.google.com/open?id=1unuzodcSQ4De9SQJXoj0yAdWGvZ1IPBw&usp=drive_fs)"
      ],
      "metadata": {
        "id": "Wq6y2u8wO_uc"
      }
    },
    {
      "cell_type": "markdown",
      "source": [
        "### Structured Data\n",
        "**Structured data** is **highly organized** and easy to search. It follows a rigid format, like a spreadsheet with predefined columns. Each column contains specific data types such as text, date, or decimal values. This structured format allows for easy relationships between data, making it suitable for **relational databases**.\n",
        "\n",
        "- **Example**: SQL (Structured Query Language) is used to query structured data.\n",
        "- **Prevalence**: About 20% of data is structured."
      ],
      "metadata": {
        "id": "HlMdS0VgvQUn"
      }
    },
    {
      "cell_type": "markdown",
      "source": [
        "#### Employee Table\n",
        "\n",
        "A structured data example is Spotflix's employee table:\n",
        "\n",
        "- Each row represents an employee.\n",
        "- Each column contains specific information (e.g., team, role).\n",
        "- The index serves as a unique identifier.\n",
        "- Logical values (e.g., true/false) exist for certain attributes.\n",
        "\n",
        "### Relational Database\n",
        "Structured data can be connected across multiple tables to form a relational database.\n",
        "\n",
        "- **Example**: An employee table can relate to an office table through a shared column."
      ],
      "metadata": {
        "id": "7tnwsqF4M7t0"
      }
    },
    {
      "cell_type": "markdown",
      "source": [
        "### Semi-Structured Data\n",
        "Semi-structured data is more **flexible** than structured data but still maintains some level of organization.\n",
        "\n",
        "- It allows for varying numbers of attributes within records.\n",
        "- It can be grouped to form relationships, though less straightforward than structured data.\n",
        "- **Stored in**: NoSQL databases (e.g., JSON, XML, YAML formats).\n",
        "\n",
        "### Favorite Artists JSON File\n",
        "Example of a JSON file storing users' favorite artists:"
      ],
      "metadata": {
        "id": "Ro5NLpu_wTQ2"
      }
    },
    {
      "cell_type": "code",
      "source": [
        "json\n",
        "{\n",
        "  \"user_id\": 123,\n",
        "  \"first_name\": \"John\",\n",
        "  \"last_name\": \"Doe\",\n",
        "  \"favorite_artists\": [\"Artist A\", \"Artist B\", \"Artist C\"]\n",
        "}"
      ],
      "metadata": {
        "id": "gvfZC6-jtz5N"
      },
      "execution_count": null,
      "outputs": []
    },
    {
      "cell_type": "markdown",
      "source": [
        "* Users have varying numbers of favorite artists.\n",
        "* This flexibility is not possible in relational databases.\n",
        "\n",
        "### Unstructured Data\n",
        "Unstructured data **does not follow a fixed model** and cannot be stored in traditional rows and columns.\n",
        "\n",
        "* Examples: Text, audio, images, videos.\n",
        "* Storage: Typically stored in data lakes, but can also appear in data warehouses or databases.\n",
        "* Challenges: Hard to search and organize.\n",
        "* Solution: Machine learning and AI help extract value from unstructured data.\n",
        "\n",
        "#### Spotflix's Unstructured Data\n",
        "Spotflix deals with various forms of unstructured data, including:\n",
        "\n",
        "* Lyrics\n",
        "* Songs\n",
        "* Pictures (album covers, artist profiles)\n",
        "* Videos (music videos)\n",
        "\n",
        "##### Adding Some Structure\n",
        "To improve searchability, Spotflix could:\n",
        "\n",
        "* Use **machine learning** to analyze song spectrums, BPM, chord progressions, and genres.\n",
        "* Ask artists to provide metadata (e.g., genre, tags), making data **semi-structured**.\n"
      ],
      "metadata": {
        "id": "zQIoAn4ct022"
      }
    },
    {
      "cell_type": "markdown",
      "source": [
        "### Summary\n",
        "* **Structured data**: Rigid format, easily searchable, used in relational databases.\n",
        "* **Semi-structured data**: Some organization, flexible attributes, stored in NoSQL formats.\n",
        "* **Unstructured data**: No predefined model, harder to manage but valuable with AI/ML."
      ],
      "metadata": {
        "id": "honfuPZhv_Sz"
      }
    },
    {
      "cell_type": "markdown",
      "source": [
        "## SQL Databases"
      ],
      "metadata": {
        "id": "nYA-xzxTw59S"
      }
    },
    {
      "cell_type": "markdown",
      "source": [
        "### SQL Overview\n",
        "SQL (Structured Query Language) is the standard language for querying **Relational Database Management Systems (RDBMS)**. It allows for accessing multiple records at once, filtering, grouping, and aggregating data. SQL is widely used by **data engineers** to create and maintain databases and by **data scientists** to query them.\n"
      ],
      "metadata": {
        "id": "v8G6--8Qx0Zz"
      }
    },
    {
      "cell_type": "markdown",
      "source": [
        "### SQL for Data Engineers\n",
        "Data engineers use SQL to **create and manage databases**. Below is an example of creating an `employees` table:\n",
        "\n"
      ],
      "metadata": {
        "id": "SjmO4O-ISTNM"
      }
    },
    {
      "cell_type": "markdown",
      "source": [
        "\n",
        "\n",
        "``` sql\n",
        "CREATE TABLE employees (\n",
        "    employee_id INT,\n",
        "    first_name VARCHAR(255),\n",
        "    last_name VARCHAR(255),\n",
        "    role VARCHAR(255),\n",
        "    team VARCHAR(255),\n",
        "    full_time BOOLEAN,\n",
        "    office VARCHAR(255)\n",
        ");\n",
        "```\n",
        "\n",
        "- `INT` stores whole numbers (e.g., `employee_id`).\n",
        "- `VARCHAR(255)` stores text with a max length of 255 characters (e.g., `first_name`, `last_name`).\n",
        "- `BOOLEAN` holds logical values (`0` for false, `1` for true`).\n",
        "\n",
        "Data engineers use additional SQL statements to **update** and **insert records** into tables.\n",
        "\n",
        "``` sql\n",
        "SELECT first_name, last_name\n",
        "FROM employees\n",
        "WHERE role LIKE '%Data%';\n",
        "```\n",
        "* The `%` wildcard allows `\"Data\"` to appear **anywhere** in the role title.\n"
      ],
      "metadata": {
        "id": "m8AAWH4-SeQe"
      }
    },
    {
      "cell_type": "markdown",
      "source": [
        "### Database Schema\n",
        "Databases consist of multiple related tables. The **schema** defines how they are connected."
      ],
      "metadata": {
        "id": "TjFBtesQSU0j"
      }
    },
    {
      "cell_type": "markdown",
      "source": [
        "### Spotflix Database Example\n",
        "Spotflix organizes its music data using multiple related tables:\n",
        "\n",
        "#### Albums Table\n",
        "- Stores album details (`album_id`, `artist_id`, `title`, etc.).\n",
        "\n",
        "#### Artists Table\n",
        "- Stores artist details (`artist_id`, `name`, `biography`).\n",
        "\n",
        "#### Linking Albums and Artists\n",
        "- The `artist_id` connects the **artists** table to the **albums** table.\n",
        "\n",
        "#### Songs Table\n",
        "- Stores song details (`song_id`, `album_id`, `title`, etc.).\n",
        "\n",
        "#### Linking Albums and Songs\n",
        "- The `album_id` connects the **albums** table to the **songs** table.\n",
        "\n",
        "#### Playlists Table\n",
        "- Stores playlist details (`playlist_id`, `user_id`, `song_id`, etc.).\n",
        "\n",
        "#### Linking Playlists and Songs\n",
        "- The `song_id` connects the **playlists** table to the **songs** table.\n",
        "\n",
        "These relationships define **relational databases**, allowing efficient **data retrieval and organization**.\n"
      ],
      "metadata": {
        "id": "_3ZQGE5ITfZc"
      }
    },
    {
      "cell_type": "markdown",
      "source": [
        "### SQL Implementations\n",
        "Different SQL implementations exist, such as **MySQL, PostgreSQL, SQLite, and SQL Server**. While there are slight differences, they are mostly interchangeable—similar to switching between different keyboard layouts.\n",
        "\n",
        "### Summary\n",
        "- **SQL** is the **language of reference** for relational databases.\n",
        "- **Data engineers** create and manage tables.\n",
        "- **Data scientists** query and analyze data.\n",
        "- **Database schemas** define table relationships."
      ],
      "metadata": {
        "id": "4_7qg5QDTjZZ"
      }
    },
    {
      "cell_type": "markdown",
      "source": [
        "## Data Warehouses & Data Lakes"
      ],
      "metadata": {
        "id": "yA4L-7Uoxiiv"
      }
    },
    {
      "cell_type": "markdown",
      "source": [
        "### Data Pipeline Overview  \n",
        "A data pipeline **collects and processes data from different sources**, storing it in either a data lake or a data warehouse."
      ],
      "metadata": {
        "id": "W2UOJfidxwmP"
      }
    },
    {
      "cell_type": "markdown",
      "source": [
        "### Data Lakes vs. Data Warehouses  \n",
        "\n",
        "#### Data Lake  \n",
        "Stores all collected **raw data** in its original form, whether **structured, semi-structured, or unstructured**.  \n",
        "\n",
        "**Characteristics:**  \n",
        "- Can handle **petabytes** of data.  \n",
        "- **No enforced structure**, making it cost-effective but harder to analyze.  \n",
        "- Used for **real-time analytics** on big data.  \n",
        "- Requires a **data catalog** to avoid becoming a **data swamp**.  \n",
        "\n",
        "#### Data Warehouse  \n",
        "Stores **specific, structured data** optimized for analytics.  \n",
        "\n",
        "**Characteristics:**  \n",
        "- More **costly** to manipulate due to enforced structure.  \n",
        "- Used for **read-only, ad-hoc queries** like aggregation and summarization.  \n",
        "- Supports **business decision-making** with structured analytics.\n"
      ],
      "metadata": {
        "id": "YSqfN61PV5PN"
      }
    },
    {
      "cell_type": "markdown",
      "source": [
        "### Data Catalog for Data Lakes  \n",
        "A **data catalog** is a metadata management tool that helps organizations **organize, track, and manage** data assets within a data ecosystem; essential for managing **data lakes** due to their lack of structure.  \n",
        "\n",
        "- Tracks **data sources, usage, ownership, and update frequency**.  \n",
        "- Supports **data governance** (availability, usability, integrity, security).  \n",
        "- Ensures **reproducibility** of analyses.  \n",
        "- Prevents the **data lake** from turning into a **data swamp**.  \n"
      ],
      "metadata": {
        "id": "sCIFy0qcWxmH"
      }
    },
    {
      "cell_type": "markdown",
      "source": [
        "### Database vs. Data Warehouse  \n",
        "- **Database**: A **broad term** for any organized collection of data stored on a computer.  \n",
        "- **Data Warehouse**: A **specific type of database** designed for structured, analytical queries.  "
      ],
      "metadata": {
        "id": "Z8Qq34AGW0CI"
      }
    },
    {
      "cell_type": "markdown",
      "source": [
        "### Summary  \n",
        "- **Data lakes** store raw, unstructured data and require a **data catalog**.  \n",
        "- **Data warehouses** store structured data for analytics.  \n",
        "- **Data catalogs** ensure scalability and prevent reliance on **tribal knowledge**.  \n",
        "- **Databases** are a general category, while **data warehouses** are a specialized type of database."
      ],
      "metadata": {
        "id": "jgRyldQHW3tG"
      }
    },
    {
      "cell_type": "markdown",
      "source": [
        "# Moving & Processing Data"
      ],
      "metadata": {
        "id": "N70I0hd6d55H"
      }
    },
    {
      "cell_type": "markdown",
      "source": [
        "## Processing Data\n",
        "Data processing is the final step in the data engineering workflow, where raw data is transformed into meaningful information.\n"
      ],
      "metadata": {
        "id": "b-PYJxQ0eHi0"
      }
    },
    {
      "cell_type": "markdown",
      "source": [
        "### Data Pipeline Overview\n",
        "- Moving data to a **data lake**  \n",
        "- Splitting data into **different tables**  \n",
        "- Removing **corrupted tracks**  \n",
        "\n",
        "These are all examples of **data processing**."
      ],
      "metadata": {
        "id": "XwU0yRHGeL-n"
      }
    },
    {
      "cell_type": "markdown",
      "source": [
        "### What is Data Processing?\n",
        "**Data processing** is the conversion of raw data into meaningful information."
      ],
      "metadata": {
        "id": "E1JG0OghePx1"
      }
    },
    {
      "cell_type": "markdown",
      "source": [
        "### Why Process Data?\n",
        "- **Optimizing Storage & Costs**:  \n",
        "  - Unnecessary data can be removed after a feature rollout.  \n",
        "  - Storing and processing data costs money, so optimization is essential.  \n",
        "  - **Compression** reduces storage needs—uncompressed data can be **10x larger** than compressed.  \n",
        "\n",
        "- **Transforming Data for Usability**:  \n",
        "  - Data may need conversion to a different type for easier use.  \n",
        "  - Example: **File size vs. sound quality tradeoff** in music files."
      ],
      "metadata": {
        "id": "8Cril7EneS3w"
      }
    },
    {
      "cell_type": "markdown",
      "source": [
        "### Data Processing at Spotflix\n",
        "- **Music Uploads**:  \n",
        "  - Artists upload high-quality **wav** or **flac** files.  \n",
        "  - Streaming these large files would **incur high network costs**.  \n",
        "  - Data is processed by converting them to **.ogg format**, which is lighter but slightly lower in quality.  \n",
        "\n",
        "- **Metadata Extraction**:  \n",
        "  - Music files contain **artist names, genres, etc.**  \n",
        "  - This metadata is processed and stored in a **database** for easy access.  \n",
        "\n",
        "- **Structuring Employee Data**:  \n",
        "  - Data is formatted to match a specific schema (e.g., separating first and last names).  \n",
        "  - **Logical classification** is applied (e.g., part-time vs. full-time employees).  "
      ],
      "metadata": {
        "id": "hjh-wUjfeWiH"
      }
    },
    {
      "cell_type": "markdown",
      "source": [
        "### Benefits of Data Processing\n",
        "- **Easier access for analysts**:  \n",
        "  - Processed data is structured and **ready for analysis**.  \n",
        "- **Increased productivity**:  \n",
        "  - Automating data preparation saves time for data scientists.  \n",
        "- **Improved data organization**:  \n",
        "  - Processing ensures data fits into well-defined schemas.  "
      ],
      "metadata": {
        "id": "rDMB5s3PeaXc"
      }
    },
    {
      "cell_type": "markdown",
      "source": [
        "\n",
        "### How Data Engineers Process Data\n",
        "Data engineers perform essential **data cleaning, manipulation, and structuring** tasks, such as:\n",
        "- **Handling corrupted data**:  \n",
        "  - Rejecting corrupt song files.  \n",
        "  - Deciding how to handle missing metadata (e.g., leaving blank, rejecting file, or assigning a default genre).  \n",
        "\n",
        "- **Structuring databases**:  \n",
        "  - Ensuring data is stored in a **well-organized relational database**.  \n",
        "  - Creating **views** to combine related data for easy querying.  \n",
        "\n",
        "- **Optimizing database performance**:  \n",
        "  - Using **indexing** to speed up data retrieval.  "
      ],
      "metadata": {
        "id": "tiuZUXU3eczF"
      }
    },
    {
      "cell_type": "markdown",
      "source": [
        "\n",
        "### Tools for Data Processing\n",
        "- There are many **data processing tools**, but they are out of scope for this course.  "
      ],
      "metadata": {
        "id": "9iItOwRfee1v"
      }
    },
    {
      "cell_type": "markdown",
      "source": [
        "### Apache Spark\n",
        "- **Apache Spark** is a powerful data processing tool.  \n",
        "- Courses on **DataCamp** cover its usage."
      ],
      "metadata": {
        "id": "YzYZ6mfpegvc"
      }
    },
    {
      "cell_type": "markdown",
      "source": [
        "## Scheduling Data"
      ],
      "metadata": {
        "id": "Iap4PE6YhQRx"
      }
    },
    {
      "cell_type": "markdown",
      "source": [
        "### Scheduling\n",
        "Scheduling is the glue of a data engineering system. It organizes how different tasks work together, running them in a specific order and resolving dependencies correctly. It can apply to tasks such as updating tables and databases.\n"
      ],
      "metadata": {
        "id": "elACHGOChWRc"
      }
    },
    {
      "cell_type": "markdown",
      "source": [
        "### Manual, Time, and Sensor Scheduling\n",
        "There are different ways to schedule tasks:\n",
        "- **Manual Scheduling**: Tasks are run manually by an employee (e.g., updating a table when an employee moves).\n",
        "- **Time Scheduling**: Tasks are set to execute at specific times, such as updating a database every morning at 6 AM.\n",
        "- **Sensor Scheduling**: Tasks execute when a specific condition is met, like updating a department table only if a new employee is added.\n",
        "\n",
        "While **manual** scheduling may involve human intervention, **automated** scheduling sets tasks to run at specific times or conditions, which reduces the need for human oversight. However, sensor scheduling requires continuous monitoring, which can demand more resources."
      ],
      "metadata": {
        "id": "FmNolp02htVd"
      }
    },
    {
      "cell_type": "markdown",
      "source": [
        "### Batches and Streams\n",
        "- **Batch Processing**: Data is processed in groups at specific intervals, often overnight. It's more cost-effective as it can be scheduled during off-peak times.\n",
        "  - Example: Updating the employee database every morning at 6:00 AM.\n",
        "  \n",
        "- **Stream Processing**: Data is processed immediately as it is received, making it suitable for real-time applications.\n",
        "  - Example: Updating a user profile as soon as they sign up.\n",
        "  \n",
        "Both batch and stream processing have their use cases, and stream processing is sometimes considered the same as real-time processing, especially in scenarios like fraud detection."
      ],
      "metadata": {
        "id": "byqkk6prhvyq"
      }
    },
    {
      "cell_type": "markdown",
      "source": [
        "### Scheduling Tools\n",
        "Some popular tools for scheduling data processing tasks include:\n",
        "- Apache Airflow\n",
        "- Luigi"
      ],
      "metadata": {
        "id": "yN7Dqv4xhyvK"
      }
    },
    {
      "cell_type": "markdown",
      "source": [
        "### Summary\n",
        "Scheduling helps organize and automate tasks in a data pipeline. Tasks can be scheduled manually, by time, or based on sensors, and data can be processed in batches or streams depending on the use case. Tools like Apache Airflow and Luigi help with automating the scheduling of tasks.\n",
        "\n",
        "\n",
        "\n",
        "\n",
        "\n",
        "\n"
      ],
      "metadata": {
        "id": "Wa1dqkT3h9yR"
      }
    },
    {
      "cell_type": "markdown",
      "source": [
        "\n",
        "\n",
        "---\n",
        "\n"
      ],
      "metadata": {
        "id": "B19_SRibFhST"
      }
    },
    {
      "cell_type": "markdown",
      "source": [
        "\n",
        "\n",
        "---\n",
        "\n"
      ],
      "metadata": {
        "id": "VcwC7IyXFlbC"
      }
    },
    {
      "cell_type": "markdown",
      "source": [
        "## Recap  \n",
        "\n",
        "So far, I explored the critical role of data processing in data engineering, focusing on how raw data is transformed into meaningful information. This transformation is essential for optimizing storage, reducing processing costs, and improving network efficiency. Key takeaways include:  \n",
        "\n",
        "- **Data Processing**: Converts raw data into usable information by filtering out unnecessary data, optimizing costs, and improving usability.  \n",
        "- **Data Compression**: Example: Converting music files from high-quality formats like `WAV` or `FLAC` to `.ogg` to reduce network costs while maintaining acceptable sound quality.  \n",
        "- **Data Organization**: Structuring and organizing data for easy access and analysis, such as extracting metadata from music files or fitting employee data into table schemas.  \n",
        "- **Automation**: Streamlining data preparation tasks to enhance productivity, allowing data scientists to focus on insights.  \n",
        "- **Data Engineers' Responsibilities**: Data manipulation, cleaning, structuring databases, creating views for efficient access, and optimizing performance.  \n",
        "\n",
        "Additionally, I connected data processing with the **ETL (Extract, Transform, Load) framework**, understanding its role in data pipelines:  \n",
        "\n",
        "- **Extraction**: Retrieving data from a source.  \n",
        "- **Transformation**: Modifying and processing data.  \n",
        "- **Loading**: Storing the data in a database or other storage solution.  \n"
      ],
      "metadata": {
        "id": "GjyoFKWAFn9x"
      }
    },
    {
      "cell_type": "markdown",
      "source": [
        "## Parallel Computing"
      ],
      "metadata": {
        "id": "W5zxynPeFyLa"
      }
    },
    {
      "cell_type": "markdown",
      "source": [
        "Parallel computing is the foundation of most modern data processing tools. It is crucial for managing memory efficiently and increasing processing power. Big data tools break down processing tasks into smaller subtasks, which are then distributed across multiple computers.  \n",
        "\n",
        "### Understanding Parallel Computing  \n",
        "#### T-Shirt Folding Analogy  \n",
        "Imagine running a music merchandise shop that needs to fold 1,000 t-shirts:  \n",
        "- A **senior sales assistant** folds **100 shirts in 15 minutes**.  \n",
        "- A **junior sales assistant** folds **100 shirts in 30 minutes**.  \n",
        "\n",
        "If only one assistant can work at a time, choosing the senior assistant is the fastest option. However, if the batch is split into **four groups of 250 shirts**, having four junior assistants working in parallel is faster:  \n",
        "- They finish in **1 hour and 15 minutes**,  \n",
        "- Compared to **2 hours and 30 minutes** if the senior assistant worked alone.  \n",
        "\n",
        "### Benefits and Risks of Parallel Computing  \n",
        "**Benefits:**  \n",
        "- **Increased Processing Power:** Multiple processing units work simultaneously.  \n",
        "- **Optimized Memory Usage:** Instead of loading all data into one computer's memory, data is partitioned and processed across multiple computers, reducing memory footprint.  \n",
        "\n",
        "**Risks:**  \n",
        "- **Data Transfer Costs:** Moving data between computers has a cost.  \n",
        "- **Task Coordination Overhead:** Splitting tasks into subtasks and merging results requires communication, which adds time.  \n",
        "\n",
        "#### T-Shirt Analogy Revisited  \n",
        "If distributing t-shirts among four assistants takes **10 minutes**, and collecting folded shirts takes **5 minutes**, the total time increases to **1 hour and 30 minutes**, instead of the expected **1 hour and 15 minutes**.  \n",
        "\n",
        "### Parallel Computing at Spotflix  \n",
        "Spotflix uses **parallel computing** to convert songs from lossless formats to `.ogg`, reducing memory load on a single computer and leveraging extra processing power for conversion scripts.  \n",
        "\n",
        "### Summary  \n",
        "Parallel computing enhances processing efficiency but comes with coordination costs. At Spotflix, it enables efficient audio conversion while optimizing memory and computation.  \n"
      ],
      "metadata": {
        "id": "aibglKS9bDUH"
      }
    },
    {
      "cell_type": "markdown",
      "source": [
        "## Cloud Computing for Data Processing\n"
      ],
      "metadata": {
        "id": "W7ySBo7nbUQ4"
      }
    },
    {
      "cell_type": "markdown",
      "source": [
        "Cloud computing offers a more flexible and cost-efficient approach to data processing compared to on-premises data centers. Key advantages include:\n",
        "- **Resource Optimization**: Companies only rent servers when needed, avoiding waste during quieter times.\n",
        "- **Cost Efficiency**: Renting servers in the cloud is cheaper than maintaining on-premises infrastructure.\n",
        "- **Global Availability**: Cloud servers can be placed closer to users, reducing latency and improving user experience.\n",
        "\n",
        "## Cloud Computing for Data Storage\n",
        "Cloud computing enhances database reliability and safeguards data:\n",
        "- **Disaster Recovery**: Cloud computing allows companies to replicate data across geographical locations, reducing risk.\n",
        "- **Sensitive Data**: The cloud can pose risks for confidential data, with concerns around external hosting and government surveillance.\n",
        "\n",
        "## Cloud Providers\n",
        "The three main cloud service providers are:\n",
        "1. **Amazon Web Services (AWS)**\n",
        "2. **Microsoft Azure**\n",
        "3. **Google Cloud**\n",
        "\n",
        "### Key Services:\n",
        "- **File Storage**:\n",
        "  - AWS S3\n",
        "  - Azure Blob Storage\n",
        "  - Google Cloud Storage\n",
        "- **Computation**:\n",
        "  - AWS EC2\n",
        "  - Azure Virtual Machines\n",
        "  - Google Compute Engine\n",
        "- **Databases**:\n",
        "  - AWS RDS\n",
        "  - Azure SQL Database\n",
        "  - Google Cloud SQL\n",
        "\n",
        "## Cloud Computing at Spotflix\n",
        "Spotflix uses AWS for various services:\n",
        "- **S3**: To store cover albums\n",
        "- **EC2**: To process songs\n",
        "- **RDS**: To store employee information\n",
        "\n",
        "## Multicloud\n",
        "Multicloud allows companies to use services from different providers. Benefits include:\n",
        "- **Reduced Vendor Reliance**: Avoid being locked into a single provider.\n",
        "- **Cost Optimization**: Leverage the best pricing and features.\n",
        "- **Disaster Mitigation**: Using multiple providers can reduce the impact of outages (e.g., AWS outage in 2017).\n",
        "\n",
        "However, multicloud introduces challenges:\n",
        "- **Compatibility Issues**: Some services from different providers may not work well together.\n",
        "- **Security & Governance**: Managing multiple cloud environments can complicate security and compliance.\n",
        "\n",
        "## Summary\n",
        "Cloud computing offers cost-effective and reliable solutions for data processing and storage. Spotflix uses AWS services for storage, processing, and databases. Multicloud strategies offer advantages in cost and disaster recovery, but also require careful management of compatibility and security.\n"
      ],
      "metadata": {
        "id": "EH_y4Ocddub0"
      }
    }
  ]
}