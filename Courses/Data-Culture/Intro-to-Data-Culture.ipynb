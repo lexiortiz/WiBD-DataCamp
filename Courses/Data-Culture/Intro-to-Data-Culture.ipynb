{
  "nbformat": 4,
  "nbformat_minor": 0,
  "metadata": {
    "colab": {
      "provenance": [],
      "authorship_tag": "ABX9TyMtxjWzzsY5cU30Vj0sxQI9"
    },
    "kernelspec": {
      "name": "python3",
      "display_name": "Python 3"
    },
    "language_info": {
      "name": "python"
    }
  },
  "cells": [
    {
      "cell_type": "markdown",
      "source": [
        "# What is Data Culture?\n",
        "\n",
        "1. Analyze available data\n",
        "2. Understand the messages conveyed\n",
        "3. Communicate with others\n",
        "\n",
        "**From HAVING data to USING data.**\n",
        "\n",
        "<center>***</center>\n",
        "\n",
        "Data Culture is an organization's collective behavior and mindset toward using data to enhance business decisions and improve data perfomance.\n",
        "\n",
        "<center>***</center>\n",
        "\n",
        "Applies to all industries and all stakeholders, regardless of technical acumen. Business sizes are irrelevant.\n",
        "\n",
        "## Key Components of Data Culture\n",
        "1. Making data-driven decisions\n",
        " * evaluate strategy\n",
        " * identify opportunities\n",
        " * measure success\n",
        "\n",
        "2. Prioritizing data literacy\n",
        " * read, interpret, and analyze data\n",
        " * requires long-term commitment\n",
        " * organizational-wide effort\n",
        "\n",
        "3. Encourages continuous experimentation and development\n",
        " * test innovative ideas\n",
        " * learn from failures\n",
        " * quickly adapt to changes\n",
        "\n",
        "## Data Culture Benefits\n",
        "* Enhance decision-making\n",
        "* Improve operations\n",
        "* Achieve business goals\n"
      ],
      "metadata": {
        "id": "q4sy1YK4HNX_"
      }
    },
    {
      "cell_type": "markdown",
      "source": [
        "# Why Build a Data Culture?\n",
        "\n",
        "## Efficiency Booster!\n",
        " * Robust data management and storage tools made possible\n",
        " * Enganced decision-making processes\n",
        " * Achieve automation process\n",
        " * Frees up employees from data collection, analysis, and reporting\n",
        " * Encourage effective collabs between individuals\n",
        " * Lead to innovative solutions and approaches\n",
        " * Effective allocation of resources\n",
        " * More resources direct at tasks with higher business value\n",
        "\n",
        "## ROI of Data\n",
        " * Signifcant return on investment\n",
        " * Chance of grouth and higher profit\n",
        " * Data can help...\n",
        "  * Identify new revenue streams\n",
        "  * Optimize processes\n",
        "  * Reduce costs"
      ],
      "metadata": {
        "id": "xnAwXXgJLwnK"
      }
    },
    {
      "cell_type": "markdown",
      "source": [
        "### Netflix Example\n",
        "\n",
        "#### Data Storage & Management\n",
        "* Handles a vast quantity of data\n",
        "* AWS enables large volume storage\n",
        "* Facilitates large volume streaming\n",
        "\n",
        "#### Automation\n",
        "* Cloud-based automation framework\n",
        "* Netflix Test Studio (NTS)\n",
        "* Automatically test apps at scale\n",
        "\n",
        "#### Collab\n",
        "* Advaned data analystics tools\n",
        "* Inform business teams\n",
        "\n",
        "#### Resource Allocation\n",
        "* Enhance mopvie and tv show personalization\n",
        "* Optimize content and marketing strategies"
      ],
      "metadata": {
        "id": "smhmNLywQM3e"
      }
    },
    {
      "cell_type": "markdown",
      "source": [
        "\n",
        "\n",
        "---\n",
        "## Exercise\n",
        "\n",
        "You noticed that since the launch of their data culture program, there had been a significant increase in the company's total revenue. You want to understand how the program contributed to their financial success and plan to include your findings in your final report.\n",
        "\n",
        "After gathering the information on the specific components of the data culture program, you would like to match these with their potential benefits.\n",
        "\n",
        "\n",
        "Sort the items to match the following list of benefits:\n",
        "\n",
        "1. Better allocation of resources\n",
        " * Put together a new analytics sub-team identifying business areas with higher market value.\n",
        "\n",
        "2. Improved cross-functional collaboration\n",
        " * Introduced company-wide \"Data Insight Communication\" program.\n",
        "\n",
        "3. Automation of processes\n",
        " * Integrated lab info management software (LIMS) with robotic equipment for data collection.\n",
        "\n",
        "4. Enhanced problem-solving and decision-making\n",
        " * Provided data literacy trainings to the leadership board.\n",
        "\n",
        "\n",
        "---\n",
        "\n"
      ],
      "metadata": {
        "id": "kqlt-Rv5Tv1K"
      }
    },
    {
      "cell_type": "markdown",
      "source": [
        "## Challenges Along the Way\n",
        "\n",
        "### People Challenges\n",
        "*Human aspects of an organization*\n",
        "\n",
        "* **Data silos** -- occur when info is isolated within teams or departments\n",
        " * **Solution**: centralized data team/ data management system\n",
        "    * robust data culture <> cross-functional collaboration\n",
        "\n",
        "* **Data literacy** -- reluctance to gain new skills and adapt to changing data trend | failure to invest in long-term commitment\n",
        "  * **Solution**: customized training program | continuously monitor and refine\n",
        "\n",
        "* **Data ethics** -- responsible, fair, and transparent data usage\n",
        "  * **Solution**: establish clear ethical guidelines | foster open discussion\n",
        "\n",
        "### Process Challenges\n",
        "*Systems, procedures, workflows*\n",
        "* **Data quality** -- data needs to be accurate, reliable, up-to-date\n",
        "  * **Solution**: implement data validation processes\n",
        "  * leverage automated data cleansing tools\n",
        "\n",
        "* **Data privacy** & **Data security** -- extended data usage may lead to overlook of data privacy | protecting senstive info maintains customer trust and avoids potential breaches\n",
        "  * **Solution**: implement access controls | apply encryption techniques | conduct regular security checks"
      ],
      "metadata": {
        "id": "djYeqRdGUlgu"
      }
    },
    {
      "cell_type": "markdown",
      "source": [
        "## Maturity Models\n",
        "Having a maturity model provides a clear roadmap for companies to follow in developing their data culture. It helps organizations assess their current state, identify areas for improvement, and track progress towards their data-driven goals.\n",
        "\n",
        "* Assess and plan organization improvement efforts\n",
        "* Typically have multiple levels or stages\n",
        "* Higher level:\n",
        "  * More effectiveness\n",
        "  * More efficiency\n",
        "  * Better alignment with business goals\n",
        "  * Improved performance\n",
        "\n",
        "To improve their data culture, organizations must assess their maturity level, create a roadmap with specific actions and goals, closely monitor progress, and celebrate successes to motivate employees.\n",
        "\n",
        "Organizations customize data culture maturity models to fit their unique needs and goals, although some common levels can serve as a starting point.\n",
        "\n",
        "* Not all organizations start at the initial (lowest) level; some may already have data practices in place and begin at a higher maturity stage.\n",
        "* Companies can skip levels or improve different aspects simultaneously rather than following a strict step-by-step progression.\n",
        "* Maturity models are guides, not rigid structures—organizations adapt them based on their current capabilities and business needs."
      ],
      "metadata": {
        "id": "-e2wxQs-ahsP"
      }
    },
    {
      "cell_type": "markdown",
      "source": [
        "### Awareness\n",
        "* Knows the importance of data but lacks a plan for using data."
      ],
      "metadata": {
        "id": "SepaSW-isD7z"
      }
    },
    {
      "cell_type": "markdown",
      "source": [
        "### Adoption\n",
        "* Attempts for data-informed decisions but have limitations."
      ],
      "metadata": {
        "id": "HURJIAr7q28_"
      }
    },
    {
      "cell_type": "markdown",
      "source": [
        "### Standardization\n",
        "* Break through silos across departments, unifying vision."
      ],
      "metadata": {
        "id": "MjlNIvDlrIGv"
      }
    },
    {
      "cell_type": "markdown",
      "source": [
        "### Optimization\n",
        "* Improve efficiency, coordinating between groups"
      ],
      "metadata": {
        "id": "mb374aIdre28"
      }
    },
    {
      "cell_type": "markdown",
      "source": [
        "### Innovation\n",
        "* Data culture in place, can use data to drive innovation."
      ],
      "metadata": {
        "id": "N-31XV0_rqIY"
      }
    },
    {
      "cell_type": "markdown",
      "source": [
        "## Data Leaders\n",
        "\n",
        "* Leadership is not necessarily top-level executives.\n",
        "* Data leaders can be anyone within an organization.\n",
        "\n",
        "Data Leaders:\n",
        "* Champion data and drive buy-in\n",
        "* Shape how data is viewed and utilized\n",
        "* Must lead by example\n",
        "\n",
        "Responsibilites:\n",
        "* Being data-first\n",
        "* Identify areas where organizations can improve how data is used\n",
        "* Knowledge sharing\n",
        "* Mentor a colleague or hold office hours\n",
        "* Showcase data potential\n",
        "\n",
        "## Buy-In Matters\n",
        "* Alignment between data leaders and executives is cruicial\n",
        "  * Obtain buy-in on resources intensive opportunities\n",
        "* Buy-in required at every level to make the whole process sustainable\n",
        "\n"
      ],
      "metadata": {
        "id": "THwVQnYsseKH"
      }
    },
    {
      "cell_type": "markdown",
      "source": [
        "## Sustainability\n",
        "\n",
        "### Process\n",
        "* Minimizes negative impact\n",
        "* Generally targeting the environment, society, and economy\n",
        "\n",
        "### Sustainable Data Culture\n",
        "* Creating a culture that can adapt and grow with the organization\n",
        "* Ensuring the culture remains effective and efficient in the long term\n",
        "\n",
        "#### Unsustainable\n",
        "* Lack of trust in data\n",
        "* Inadequate data literacy\n",
        "* Poor data quality\n",
        "* Inconsistent decision-making\n",
        "\n",
        "#### Sustainable\n",
        "* Long-term commitment\n",
        "* Trust\n",
        "* Transparency\n",
        "* Accountability\n",
        "* Better compliance\n",
        "* More informed decision-making\n",
        "* Improved business outcomes\n",
        "\n",
        "### Benefits of a Sustainable Data Culture\n",
        "\n",
        "#### Adapt to Changes:\n",
        "* Market changes, technology advancements, and evolving customer needs. Example: Microsoft, OpenAI\n",
        "\n",
        "#### Empower Employees:\n",
        "* Fostering ownership and engagement. Example: Captial One\n",
        "\n",
        "\n",
        "#### Scale Data Initiatives:\n",
        "* Benefits are realized across all levels and functions. Example: Amazon\n",
        "\n",
        "\n",
        "### The Nuance\n",
        "\n",
        "#### Building a Data Culture\n",
        "* Priortize data-driven decision-making\n",
        "* Emphasizes data literacy training\n",
        "* Values a culture of experimentation and improvement\n",
        "* Goal: drive innovation, support organizational purposes\n",
        "\n",
        "#### Building a Sustainable Data Culture\n",
        "* Goes beyond creating a data culture\n",
        "* Minimize waste, reduce emissions, conserve resources, promote equity\n",
        "* Prioritizes ethical considerations, and transparency\n",
        "* Long-term planning and short-term increments over time"
      ],
      "metadata": {
        "id": "kEwK8DF30bzk"
      }
    },
    {
      "cell_type": "markdown",
      "source": [
        "## Leaping Into Data Culture\n",
        "\n",
        "### IT and Tech Teams\n",
        "* Implement and maintain the tech infrastructure for data management\n",
        "\n",
        "* Can contribute by:\n",
        "  * Ensuring effective data management and governance practices\n",
        "  * Implementing data visualization and reporting tools\n",
        "  * Collaborating with data scientists and analysts to develop customized solutions\n",
        "\n",
        "### Data Scientists, Analysts, and Engineers\n",
        "* Critical roles\n",
        "  * Collaboration with stakeholders\n",
        "  * Education of others\n",
        "  * Establish data standards\n",
        "  * Streamline workflow\n",
        "\n",
        "* Can contribute by:\n",
        "  * Communicating data findings\n",
        "  * Collaborating with data consumers\n",
        "\n",
        "### Data Consumers\n",
        "* Data consumers rely on data to perform their duties\n",
        "  * E.g. managers, researchers, marketers, customer services, operations... basically everyone.\n",
        "\n",
        "* Can contribute by:\n",
        "  * Recognize foundational data skills\n",
        "  * Remain open to new ideas\n",
        "  * Provide honest feedback\n",
        "\n",
        "### Executives and Management Stakeholders\n",
        "* Oversee the process\n",
        "\n",
        "* Can contribute by:\n",
        "  * Setting a clear vision and strategy\n",
        "  * Allocating resources and support\n",
        "    * Learning opportunities\n",
        "    * Infrastructure"
      ],
      "metadata": {
        "id": "JCpkxTeM0eOB"
      }
    },
    {
      "cell_type": "markdown",
      "source": [],
      "metadata": {
        "id": "HMgt0dJLRudt"
      }
    }
  ]
}